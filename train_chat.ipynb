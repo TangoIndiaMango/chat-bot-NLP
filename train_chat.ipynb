{
 "cells": [
  {
   "cell_type": "code",
   "execution_count": 1,
   "id": "56acef3d",
   "metadata": {},
   "outputs": [],
   "source": [
    "from tensorflow.keras.models import load_model\n",
    "from nltk.stem import WordNetLemmatizer\n",
    "import numpy as np\n",
    "import random\n",
    "import pickle\n",
    "import json\n",
    "import nltk"
   ]
  },
  {
   "cell_type": "code",
   "execution_count": 2,
   "id": "fe5f7bb6",
   "metadata": {},
   "outputs": [],
   "source": [
    "lemmatizer = WordNetLemmatizer()\n",
    "\n",
    "conversations = json.loads(open('dataset.json', encoding='utf-8').read())\n"
   ]
  },
  {
   "cell_type": "code",
   "execution_count": 3,
   "id": "b355728c",
   "metadata": {},
   "outputs": [],
   "source": [
    "words = pickle.load(open('chat_words.pkl', 'rb'))\n",
    "classes = pickle.load(open('chat_classes.pkl', 'rb'))\n",
    "model = load_model('accur_bot_model.h5')\n"
   ]
  },
  {
   "cell_type": "code",
   "execution_count": 4,
   "id": "cf68b46b",
   "metadata": {},
   "outputs": [],
   "source": [
    "def clean_sentence(sentence):\n",
    "    sentence_words = nltk.word_tokenize(sentence)\n",
    "    return sentence_words\n"
   ]
  },
  {
   "cell_type": "code",
   "execution_count": 5,
   "id": "a774ff40",
   "metadata": {},
   "outputs": [],
   "source": [
    "def bag_of_words(sentence):\n",
    "    sentence_words = clean_sentence(sentence)\n",
    "    bag = [0] * len(words)\n",
    "    \n",
    "    for w in sentence_words:\n",
    "        for i, word in enumerate(words):\n",
    "            if word == w:\n",
    "                bag[i] = 1\n",
    "    return np.array(bag)\n",
    "            "
   ]
  },
  {
   "cell_type": "code",
   "execution_count": 6,
   "id": "0a014501",
   "metadata": {},
   "outputs": [],
   "source": [
    "def predict_class(sentence):\n",
    "    bow = bag_of_words(sentence)\n",
    "    res = model.predict(np.array([bow]))[0]\n",
    "    ERROR_THRESHOLD = 0.25\n",
    "    for i in res:\n",
    "        results = [[i, r] for i, r in enumerate(res)if r > ERROR_THRESHOLD]\n",
    "        results.sort(key=lambda x : x[1], reverse=True)\n",
    "        if results == [[i, r] for i, r in enumerate(res)if r < ERROR_THRESHOLD]:\n",
    "            return 'get'\n",
    "        \n",
    "        \n",
    "        \n",
    "    return_list = []\n",
    "    for r in results:\n",
    "        return_list.append({'chatbot': classes[r[0]], 'probablity': str(r[1])})\n",
    "    return return_list"
   ]
  },
  {
   "cell_type": "code",
   "execution_count": null,
   "id": "b6526706",
   "metadata": {},
   "outputs": [
    {
     "name": "stdout",
     "output_type": "stream",
     "text": [
      "Go! Bot is running..........\n",
      "i am green\n",
      "1/1 [==============================] - 0s 109ms/step\n",
      "You are on track, should you have additional queries however, you are welcome to contact your advisor  \n",
      "I'm struggling to register online\n",
      "1/1 [==============================] - 0s 4ms/step\n",
      "Log into Student Self-Service, drop the incorrect module and add the correct module .\n"
     ]
    }
   ],
   "source": [
    "def get_response(conversations_list, conversation_json):\n",
    "    \n",
    "    tag = conversations_list[0][\"chatbot\"]  \n",
    "    list_of_conversations = conversation_json['chatbot']\n",
    "    for i in list_of_conversations:\n",
    "        if i['tag'] == tag:\n",
    "            result = random.choice(i['response'])\n",
    "            break\n",
    "    return result\n",
    "\n",
    "print('Go! Bot is running..........')\n",
    "    \n",
    "while True:\n",
    "    message = input(\"\")\n",
    "    ints = predict_class(message)\n",
    "    res = get_response(ints, conversations)\n",
    "    print(res)\n",
    "\n"
   ]
  },
  {
   "cell_type": "code",
   "execution_count": null,
   "id": "d7611b9d",
   "metadata": {},
   "outputs": [],
   "source": []
  },
  {
   "cell_type": "code",
   "execution_count": null,
   "id": "0e1736f5",
   "metadata": {},
   "outputs": [],
   "source": []
  }
 ],
 "metadata": {
  "kernelspec": {
   "display_name": "Python 3 (ipykernel)",
   "language": "python",
   "name": "python3"
  },
  "language_info": {
   "codemirror_mode": {
    "name": "ipython",
    "version": 3
   },
   "file_extension": ".py",
   "mimetype": "text/x-python",
   "name": "python",
   "nbconvert_exporter": "python",
   "pygments_lexer": "ipython3",
   "version": "3.10.6"
  }
 },
 "nbformat": 4,
 "nbformat_minor": 5
}
