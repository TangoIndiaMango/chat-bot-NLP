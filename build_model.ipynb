{
 "cells": [
  {
   "cell_type": "code",
   "execution_count": 1,
   "id": "dc5b7954",
   "metadata": {},
   "outputs": [],
   "source": [
    "import nltk\n",
    "\n",
    "# nltk.download('punkt')\n",
    "# nltk.download('wordnet')\n",
    "# nltk.download('omw-1.4')"
   ]
  },
  {
   "cell_type": "code",
   "execution_count": 2,
   "id": "bd94329a",
   "metadata": {},
   "outputs": [],
   "source": [
    "# !pip install tensorflow"
   ]
  },
  {
   "cell_type": "code",
   "execution_count": 3,
   "id": "5955a6e3",
   "metadata": {},
   "outputs": [],
   "source": [
    "from nltk.stem import WordNetLemmatizer\n",
    "\n",
    "lemmatizer = WordNetLemmatizer()\n",
    "import json\n",
    "import pickle\n",
    "import numpy as np\n",
    "from keras.models import Sequential\n",
    "from keras.layers import Dense, Activation, Dropout\n",
    "from tensorflow.keras.optimizers import SGD\n",
    "import random"
   ]
  },
  {
   "cell_type": "code",
   "execution_count": 4,
   "id": "e86f3732",
   "metadata": {},
   "outputs": [],
   "source": [
    "words = []\n",
    "classes = []\n",
    "documents = []\n",
    "\n",
    "ignore_words = ['?', '!', '-', '_', '.', ',', '&', '()']\n",
    "\n",
    "data_file = open('dataset.json', encoding='utf-8').read()\n",
    "\n",
    "intents = json.loads(data_file)"
   ]
  },
  {
   "cell_type": "code",
   "execution_count": 5,
   "id": "2b9f8506",
   "metadata": {},
   "outputs": [],
   "source": [
    "for intent in intents['chatbot']:\n",
    "    for pattern in intent['intent']:\n",
    "        #tokenizing\n",
    "        word_tokenize = nltk.word_tokenize(pattern)\n",
    "        words.extend(word_tokenize)\n",
    "        #add to docs\n",
    "        \n",
    "        documents.append((word_tokenize, intent['tag']))\n",
    "        \n",
    "        if intent['tag'] not in classes:\n",
    "            classes.append(intent['tag'])\n",
    "            \n",
    "words = [lemmatizer.lemmatize(w.lower()) for w in words if w not in ignore_words]\n",
    "    \n",
    "words = (sorted(list(set(words))))\n",
    "classes = sorted(list(set(classes)))"
   ]
  },
  {
   "cell_type": "code",
   "execution_count": 6,
   "id": "04e24699",
   "metadata": {},
   "outputs": [],
   "source": [
    "#saving the words\n",
    "\n",
    "pickle.dump(words,open('chat_words.pkl', \"wb\"))\n",
    "pickle.dump(classes,open('chat_classes.pkl', \"wb\"))"
   ]
  },
  {
   "cell_type": "code",
   "execution_count": 7,
   "id": "c9fde807",
   "metadata": {},
   "outputs": [
    {
     "name": "stdout",
     "output_type": "stream",
     "text": [
      "training data created\n"
     ]
    },
    {
     "name": "stderr",
     "output_type": "stream",
     "text": [
      "C:\\Users\\ACER NITRO\\AppData\\Local\\Temp\\ipykernel_16756\\1211054309.py:19: VisibleDeprecationWarning: Creating an ndarray from ragged nested sequences (which is a list-or-tuple of lists-or-tuples-or ndarrays with different lengths or shapes) is deprecated. If you meant to do this, you must specify 'dtype=object' when creating the ndarray.\n",
      "  training = np.array(training)\n"
     ]
    }
   ],
   "source": [
    "#creating bag of words and spliting data into x and y\n",
    "\n",
    "training = []\n",
    "output_entry = [0] * len(classes)\n",
    "\n",
    "for doc in documents:\n",
    "    bag = []\n",
    "    pattern_words = doc[0]\n",
    "    pattern_words = [lemmatizer.lemmatize(word.lower()) for word in pattern_words]\n",
    "    for w in words:\n",
    "        bag.append(1) if w in pattern_words else bag.append(0)\n",
    "        output_row = list(output_entry)\n",
    "        output_row[classes.index(doc[1])] = 1\n",
    "        \n",
    "        training.append([bag, output_row])\n",
    "        \n",
    "\n",
    "random.shuffle((training))\n",
    "training = np.array(training)\n",
    "train_x = list(training[:,0])\n",
    "train_y = list(training[:,1])\n",
    "\n",
    "print('training data created')"
   ]
  },
  {
   "cell_type": "code",
   "execution_count": 8,
   "id": "7f86b3bd",
   "metadata": {},
   "outputs": [],
   "source": [
    "#initializing the model\n",
    "model = Sequential()\n",
    "\n",
    "model.add(Dense(100, input_shape=(len(train_x[0]),), activation ='relu'))\n",
    "model.add(Dropout(0.5))\n",
    "model.add(Dense(35, activation ='relu'))\n",
    "model.add(Dropout(0.5))\n",
    "model.add(Dense(len(train_y[0]), activation = 'softmax'))\n",
    "\n",
    "\n",
    "# sgd = SGD(learning_rate=0.04, decay=1e-6, momentum=0.9, nesterov=True)\n",
    "model.compile(loss='categorical_crossentropy', optimizer='adam', metrics=['accuracy'])\n"
   ]
  },
  {
   "cell_type": "code",
   "execution_count": 9,
   "id": "5b4fe354",
   "metadata": {},
   "outputs": [
    {
     "name": "stdout",
     "output_type": "stream",
     "text": [
      "Epoch 1/200\n",
      "10320/10320 [==============================] - 9s 820us/step - loss: 1.2017 - accuracy: 0.6512\n",
      "Epoch 2/200\n",
      "10320/10320 [==============================] - 8s 790us/step - loss: 0.5641 - accuracy: 0.8059\n",
      "Epoch 3/200\n",
      "10320/10320 [==============================] - 9s 889us/step - loss: 0.4832 - accuracy: 0.8290\n",
      "Epoch 4/200\n",
      "10320/10320 [==============================] - 8s 744us/step - loss: 0.4376 - accuracy: 0.8441\n",
      "Epoch 5/200\n",
      "10320/10320 [==============================] - 9s 841us/step - loss: 0.4126 - accuracy: 0.8534\n",
      "Epoch 6/200\n",
      "10320/10320 [==============================] - 8s 732us/step - loss: 0.3871 - accuracy: 0.8625\n",
      "Epoch 7/200\n",
      "10320/10320 [==============================] - 7s 714us/step - loss: 0.3687 - accuracy: 0.8693\n",
      "Epoch 8/200\n",
      "10320/10320 [==============================] - 7s 705us/step - loss: 0.3644 - accuracy: 0.8720\n",
      "Epoch 9/200\n",
      "10320/10320 [==============================] - 7s 704us/step - loss: 0.3592 - accuracy: 0.8754\n",
      "Epoch 10/200\n",
      "10320/10320 [==============================] - 7s 704us/step - loss: 0.3450 - accuracy: 0.8802\n",
      "Epoch 11/200\n",
      "10320/10320 [==============================] - 7s 712us/step - loss: 0.3308 - accuracy: 0.8853\n",
      "Epoch 12/200\n",
      "10320/10320 [==============================] - 7s 710us/step - loss: 0.3255 - accuracy: 0.8881\n",
      "Epoch 13/200\n",
      "10320/10320 [==============================] - 7s 713us/step - loss: 0.3251 - accuracy: 0.8885\n",
      "Epoch 14/200\n",
      "10320/10320 [==============================] - 7s 716us/step - loss: 0.3172 - accuracy: 0.8920\n",
      "Epoch 15/200\n",
      "10320/10320 [==============================] - 7s 713us/step - loss: 0.3202 - accuracy: 0.8907\n",
      "Epoch 16/200\n",
      "10320/10320 [==============================] - 7s 715us/step - loss: 0.3093 - accuracy: 0.8947\n",
      "Epoch 17/200\n",
      "10320/10320 [==============================] - 7s 715us/step - loss: 0.3094 - accuracy: 0.8956\n",
      "Epoch 18/200\n",
      "10320/10320 [==============================] - 7s 720us/step - loss: 0.3082 - accuracy: 0.8966\n",
      "Epoch 19/200\n",
      "10320/10320 [==============================] - 7s 716us/step - loss: 0.3098 - accuracy: 0.8953\n",
      "Epoch 20/200\n",
      "10320/10320 [==============================] - 7s 715us/step - loss: 0.3040 - accuracy: 0.8982\n",
      "Epoch 21/200\n",
      "10320/10320 [==============================] - 7s 712us/step - loss: 0.2998 - accuracy: 0.8994\n",
      "Epoch 22/200\n",
      "10320/10320 [==============================] - 7s 720us/step - loss: 0.2956 - accuracy: 0.9006\n",
      "Epoch 23/200\n",
      "10320/10320 [==============================] - 7s 722us/step - loss: 0.3024 - accuracy: 0.9001\n",
      "Epoch 24/200\n",
      "10320/10320 [==============================] - 7s 721us/step - loss: 0.3024 - accuracy: 0.8999\n",
      "Epoch 25/200\n",
      "10320/10320 [==============================] - 7s 722us/step - loss: 0.2961 - accuracy: 0.9026\n",
      "Epoch 26/200\n",
      "10320/10320 [==============================] - 7s 707us/step - loss: 0.2987 - accuracy: 0.9026\n",
      "Epoch 27/200\n",
      "10320/10320 [==============================] - 7s 715us/step - loss: 0.2958 - accuracy: 0.9043\n",
      "Epoch 28/200\n",
      "10320/10320 [==============================] - 7s 720us/step - loss: 0.2907 - accuracy: 0.9046\n",
      "Epoch 29/200\n",
      "10320/10320 [==============================] - 7s 723us/step - loss: 0.2869 - accuracy: 0.9046\n",
      "Epoch 30/200\n",
      "10320/10320 [==============================] - 7s 712us/step - loss: 0.2921 - accuracy: 0.9053\n",
      "Epoch 31/200\n",
      "10320/10320 [==============================] - 7s 717us/step - loss: 0.2913 - accuracy: 0.9057\n",
      "Epoch 32/200\n",
      "10320/10320 [==============================] - 7s 719us/step - loss: 0.2940 - accuracy: 0.9032\n",
      "Epoch 33/200\n",
      "10320/10320 [==============================] - 7s 714us/step - loss: 0.2914 - accuracy: 0.9062\n",
      "Epoch 34/200\n",
      "10320/10320 [==============================] - 7s 716us/step - loss: 0.2916 - accuracy: 0.9065\n",
      "Epoch 35/200\n",
      "10320/10320 [==============================] - 7s 715us/step - loss: 0.2947 - accuracy: 0.9059\n",
      "Epoch 36/200\n",
      "10320/10320 [==============================] - 7s 710us/step - loss: 0.2963 - accuracy: 0.9059\n",
      "Epoch 37/200\n",
      "10320/10320 [==============================] - 7s 713us/step - loss: 0.2992 - accuracy: 0.9029\n",
      "Epoch 38/200\n",
      "10320/10320 [==============================] - 7s 712us/step - loss: 0.2878 - accuracy: 0.9062\n",
      "Epoch 39/200\n",
      "10320/10320 [==============================] - 7s 726us/step - loss: 0.2927 - accuracy: 0.9050\n",
      "Epoch 40/200\n",
      "10320/10320 [==============================] - 7s 702us/step - loss: 0.2939 - accuracy: 0.9074\n",
      "Epoch 41/200\n",
      "10320/10320 [==============================] - 7s 705us/step - loss: 0.2951 - accuracy: 0.9069\n",
      "Epoch 42/200\n",
      "10320/10320 [==============================] - 7s 710us/step - loss: 0.3030 - accuracy: 0.9041\n",
      "Epoch 43/200\n",
      "10320/10320 [==============================] - 7s 694us/step - loss: 0.2951 - accuracy: 0.9068\n",
      "Epoch 44/200\n",
      "10320/10320 [==============================] - 7s 709us/step - loss: 0.2939 - accuracy: 0.9078\n",
      "Epoch 45/200\n",
      "10320/10320 [==============================] - 7s 716us/step - loss: 0.2908 - accuracy: 0.9097\n",
      "Epoch 46/200\n",
      "10320/10320 [==============================] - 7s 701us/step - loss: 0.2974 - accuracy: 0.9073\n",
      "Epoch 47/200\n",
      "10320/10320 [==============================] - 7s 704us/step - loss: 0.3067 - accuracy: 0.9048\n",
      "Epoch 48/200\n",
      "10320/10320 [==============================] - 7s 702us/step - loss: 0.3020 - accuracy: 0.9046\n",
      "Epoch 49/200\n",
      "10320/10320 [==============================] - 7s 710us/step - loss: 0.3036 - accuracy: 0.9059\n",
      "Epoch 50/200\n",
      "10320/10320 [==============================] - 7s 719us/step - loss: 0.3088 - accuracy: 0.9058\n",
      "Epoch 51/200\n",
      "10320/10320 [==============================] - 7s 709us/step - loss: 0.3078 - accuracy: 0.9051\n",
      "Epoch 52/200\n",
      "10320/10320 [==============================] - 7s 711us/step - loss: 0.2976 - accuracy: 0.9084\n",
      "Epoch 53/200\n",
      "10320/10320 [==============================] - 7s 708us/step - loss: 0.3007 - accuracy: 0.9077\n",
      "Epoch 54/200\n",
      "10320/10320 [==============================] - 7s 711us/step - loss: 0.3026 - accuracy: 0.9056\n",
      "Epoch 55/200\n",
      "10320/10320 [==============================] - 7s 709us/step - loss: 0.3111 - accuracy: 0.9047\n",
      "Epoch 56/200\n",
      "10320/10320 [==============================] - 7s 719us/step - loss: 0.3101 - accuracy: 0.9052\n",
      "Epoch 57/200\n",
      "10320/10320 [==============================] - 7s 701us/step - loss: 0.3027 - accuracy: 0.9073\n",
      "Epoch 58/200\n",
      "10320/10320 [==============================] - 7s 709us/step - loss: 0.3070 - accuracy: 0.9049\n",
      "Epoch 59/200\n",
      "10320/10320 [==============================] - 7s 708us/step - loss: 0.3045 - accuracy: 0.9048\n",
      "Epoch 60/200\n",
      "10320/10320 [==============================] - 7s 718us/step - loss: 0.3166 - accuracy: 0.9032\n",
      "Epoch 61/200\n",
      "10320/10320 [==============================] - 7s 706us/step - loss: 0.3063 - accuracy: 0.9063\n",
      "Epoch 62/200\n",
      "10320/10320 [==============================] - 7s 711us/step - loss: 0.3093 - accuracy: 0.9042\n",
      "Epoch 63/200\n",
      "10320/10320 [==============================] - 7s 717us/step - loss: 0.3103 - accuracy: 0.9043\n",
      "Epoch 64/200\n",
      "10320/10320 [==============================] - 7s 707us/step - loss: 0.3136 - accuracy: 0.9054\n",
      "Epoch 65/200\n",
      "10320/10320 [==============================] - 7s 720us/step - loss: 0.3100 - accuracy: 0.9063\n",
      "Epoch 66/200\n",
      "10320/10320 [==============================] - 7s 697us/step - loss: 0.3208 - accuracy: 0.9053\n",
      "Epoch 67/200\n",
      "10320/10320 [==============================] - 7s 698us/step - loss: 0.3208 - accuracy: 0.9043\n",
      "Epoch 68/200\n",
      "10320/10320 [==============================] - 7s 697us/step - loss: 0.3153 - accuracy: 0.9053\n",
      "Epoch 69/200\n",
      "10320/10320 [==============================] - 7s 718us/step - loss: 0.3187 - accuracy: 0.9047\n",
      "Epoch 70/200\n",
      "10320/10320 [==============================] - 7s 714us/step - loss: 0.3205 - accuracy: 0.9045\n",
      "Epoch 71/200\n",
      "10320/10320 [==============================] - 7s 706us/step - loss: 0.3283 - accuracy: 0.9026\n",
      "Epoch 72/200\n",
      "10320/10320 [==============================] - 7s 701us/step - loss: 0.3227 - accuracy: 0.9037\n",
      "Epoch 73/200\n",
      "10320/10320 [==============================] - 7s 711us/step - loss: 0.3318 - accuracy: 0.9012\n",
      "Epoch 74/200\n",
      "10320/10320 [==============================] - 7s 711us/step - loss: 0.3376 - accuracy: 0.9021\n",
      "Epoch 75/200\n",
      "10320/10320 [==============================] - 7s 712us/step - loss: 0.3315 - accuracy: 0.9011\n",
      "Epoch 76/200\n"
     ]
    },
    {
     "name": "stdout",
     "output_type": "stream",
     "text": [
      "10320/10320 [==============================] - 7s 700us/step - loss: 0.3351 - accuracy: 0.9004\n",
      "Epoch 77/200\n",
      "10320/10320 [==============================] - 7s 707us/step - loss: 0.3437 - accuracy: 0.8997\n",
      "Epoch 78/200\n",
      "10320/10320 [==============================] - 7s 717us/step - loss: 0.3378 - accuracy: 0.8995\n",
      "Epoch 79/200\n",
      "10320/10320 [==============================] - 7s 708us/step - loss: 0.3383 - accuracy: 0.8983\n",
      "Epoch 80/200\n",
      "10320/10320 [==============================] - 7s 695us/step - loss: 0.3407 - accuracy: 0.9000\n",
      "Epoch 81/200\n",
      "10320/10320 [==============================] - 7s 706us/step - loss: 0.3451 - accuracy: 0.8976\n",
      "Epoch 82/200\n",
      "10320/10320 [==============================] - 7s 698us/step - loss: 0.3408 - accuracy: 0.8997\n",
      "Epoch 83/200\n",
      "10320/10320 [==============================] - 7s 705us/step - loss: 0.3362 - accuracy: 0.9006\n",
      "Epoch 84/200\n",
      "10320/10320 [==============================] - 7s 707us/step - loss: 0.3468 - accuracy: 0.8991\n",
      "Epoch 85/200\n",
      "10320/10320 [==============================] - 7s 692us/step - loss: 0.3396 - accuracy: 0.8982\n",
      "Epoch 86/200\n",
      "10320/10320 [==============================] - 7s 705us/step - loss: 0.3384 - accuracy: 0.9008\n",
      "Epoch 87/200\n",
      "10320/10320 [==============================] - 7s 707us/step - loss: 0.3461 - accuracy: 0.8988\n",
      "Epoch 88/200\n",
      "10320/10320 [==============================] - 7s 706us/step - loss: 0.3507 - accuracy: 0.8992\n",
      "Epoch 89/200\n",
      "10320/10320 [==============================] - 7s 703us/step - loss: 0.3524 - accuracy: 0.8957\n",
      "Epoch 90/200\n",
      "10320/10320 [==============================] - 7s 706us/step - loss: 0.3538 - accuracy: 0.8970\n",
      "Epoch 91/200\n",
      "10320/10320 [==============================] - 7s 721us/step - loss: 0.3559 - accuracy: 0.8962\n",
      "Epoch 92/200\n",
      "10320/10320 [==============================] - 7s 715us/step - loss: 0.3652 - accuracy: 0.8943\n",
      "Epoch 93/200\n",
      "10320/10320 [==============================] - 7s 715us/step - loss: 0.3507 - accuracy: 0.8980\n",
      "Epoch 94/200\n",
      "10320/10320 [==============================] - 7s 707us/step - loss: 0.3511 - accuracy: 0.8976\n",
      "Epoch 95/200\n",
      "10320/10320 [==============================] - 7s 706us/step - loss: 0.3668 - accuracy: 0.8966\n",
      "Epoch 96/200\n",
      "10320/10320 [==============================] - 7s 702us/step - loss: 0.3550 - accuracy: 0.8961\n",
      "Epoch 97/200\n",
      "10320/10320 [==============================] - 7s 719us/step - loss: 0.3536 - accuracy: 0.8960\n",
      "Epoch 98/200\n",
      "10320/10320 [==============================] - 7s 694us/step - loss: 0.3580 - accuracy: 0.8968\n",
      "Epoch 99/200\n",
      "10320/10320 [==============================] - 7s 717us/step - loss: 0.3634 - accuracy: 0.8947\n",
      "Epoch 100/200\n",
      "10320/10320 [==============================] - 7s 717us/step - loss: 0.3714 - accuracy: 0.8952\n",
      "Epoch 101/200\n",
      "10320/10320 [==============================] - 7s 701us/step - loss: 0.3647 - accuracy: 0.8935\n",
      "Epoch 102/200\n",
      "10320/10320 [==============================] - 7s 719us/step - loss: 0.3628 - accuracy: 0.8938\n",
      "Epoch 103/200\n",
      "10320/10320 [==============================] - 7s 707us/step - loss: 0.3662 - accuracy: 0.8942\n",
      "Epoch 104/200\n",
      "10320/10320 [==============================] - 7s 709us/step - loss: 0.3706 - accuracy: 0.8919\n",
      "Epoch 105/200\n",
      "10320/10320 [==============================] - 7s 705us/step - loss: 0.3681 - accuracy: 0.8951\n",
      "Epoch 106/200\n",
      "10320/10320 [==============================] - 8s 730us/step - loss: 0.3619 - accuracy: 0.8928\n",
      "Epoch 107/200\n",
      "10320/10320 [==============================] - 7s 705us/step - loss: 0.3743 - accuracy: 0.8944\n",
      "Epoch 108/200\n",
      "10320/10320 [==============================] - 8s 763us/step - loss: 0.3669 - accuracy: 0.8936\n",
      "Epoch 109/200\n",
      "10320/10320 [==============================] - 8s 798us/step - loss: 0.3738 - accuracy: 0.8924\n",
      "Epoch 110/200\n",
      "10320/10320 [==============================] - 7s 723us/step - loss: 0.3739 - accuracy: 0.8909\n",
      "Epoch 111/200\n",
      "10320/10320 [==============================] - 8s 754us/step - loss: 0.3757 - accuracy: 0.8918\n",
      "Epoch 112/200\n",
      "10320/10320 [==============================] - 8s 755us/step - loss: 0.3781 - accuracy: 0.8913\n",
      "Epoch 113/200\n",
      "10320/10320 [==============================] - 8s 745us/step - loss: 0.3723 - accuracy: 0.8922\n",
      "Epoch 114/200\n",
      "10320/10320 [==============================] - 8s 735us/step - loss: 0.3833 - accuracy: 0.8904\n",
      "Epoch 115/200\n",
      "10320/10320 [==============================] - 8s 774us/step - loss: 0.3792 - accuracy: 0.8908\n",
      "Epoch 116/200\n",
      "10320/10320 [==============================] - 8s 747us/step - loss: 0.3946 - accuracy: 0.8885\n",
      "Epoch 117/200\n",
      "10320/10320 [==============================] - 8s 749us/step - loss: 0.3764 - accuracy: 0.8922\n",
      "Epoch 118/200\n",
      "10320/10320 [==============================] - 7s 721us/step - loss: 0.3785 - accuracy: 0.8927\n",
      "Epoch 119/200\n",
      "10320/10320 [==============================] - 8s 786us/step - loss: 0.3912 - accuracy: 0.8897\n",
      "Epoch 120/200\n",
      "10320/10320 [==============================] - 8s 796us/step - loss: 0.3968 - accuracy: 0.8873\n",
      "Epoch 121/200\n",
      "10320/10320 [==============================] - 8s 771us/step - loss: 0.3905 - accuracy: 0.8886\n",
      "Epoch 122/200\n",
      "10320/10320 [==============================] - 8s 729us/step - loss: 0.3940 - accuracy: 0.8881\n",
      "Epoch 123/200\n",
      "10320/10320 [==============================] - 7s 722us/step - loss: 0.3948 - accuracy: 0.8872\n",
      "Epoch 124/200\n",
      "10320/10320 [==============================] - 7s 723us/step - loss: 0.3889 - accuracy: 0.8879\n",
      "Epoch 125/200\n",
      "10320/10320 [==============================] - 7s 724us/step - loss: 0.3879 - accuracy: 0.8893\n",
      "Epoch 126/200\n",
      "10320/10320 [==============================] - 8s 727us/step - loss: 0.3922 - accuracy: 0.8907\n",
      "Epoch 127/200\n",
      "10320/10320 [==============================] - 8s 734us/step - loss: 0.3839 - accuracy: 0.8914\n",
      "Epoch 128/200\n",
      "10320/10320 [==============================] - 8s 736us/step - loss: 0.3933 - accuracy: 0.8875\n",
      "Epoch 129/200\n",
      "10320/10320 [==============================] - 8s 729us/step - loss: 0.3841 - accuracy: 0.8897\n",
      "Epoch 130/200\n",
      "10320/10320 [==============================] - 8s 729us/step - loss: 0.3954 - accuracy: 0.8888\n",
      "Epoch 131/200\n",
      "10320/10320 [==============================] - 8s 730us/step - loss: 0.3945 - accuracy: 0.8875\n",
      "Epoch 132/200\n",
      "10320/10320 [==============================] - 7s 725us/step - loss: 0.3969 - accuracy: 0.8861\n",
      "Epoch 133/200\n",
      "10320/10320 [==============================] - 8s 728us/step - loss: 0.4138 - accuracy: 0.8857\n",
      "Epoch 134/200\n",
      "10320/10320 [==============================] - 8s 727us/step - loss: 0.4183 - accuracy: 0.8836\n",
      "Epoch 135/200\n",
      "10320/10320 [==============================] - 8s 732us/step - loss: 0.4050 - accuracy: 0.8840\n",
      "Epoch 136/200\n",
      "10320/10320 [==============================] - 7s 726us/step - loss: 0.3932 - accuracy: 0.8848\n",
      "Epoch 137/200\n",
      "10320/10320 [==============================] - 7s 724us/step - loss: 0.4060 - accuracy: 0.8852\n",
      "Epoch 138/200\n",
      "10320/10320 [==============================] - 8s 737us/step - loss: 0.4128 - accuracy: 0.8811\n",
      "Epoch 139/200\n",
      "10320/10320 [==============================] - 8s 727us/step - loss: 0.4148 - accuracy: 0.8839\n",
      "Epoch 140/200\n",
      "10320/10320 [==============================] - 7s 727us/step - loss: 0.4098 - accuracy: 0.8832\n",
      "Epoch 141/200\n",
      "10320/10320 [==============================] - 7s 725us/step - loss: 0.4054 - accuracy: 0.8830\n",
      "Epoch 142/200\n",
      "10320/10320 [==============================] - 8s 739us/step - loss: 0.4317 - accuracy: 0.8815\n",
      "Epoch 143/200\n",
      "10320/10320 [==============================] - 8s 731us/step - loss: 0.4193 - accuracy: 0.8818\n",
      "Epoch 144/200\n",
      "10320/10320 [==============================] - 8s 738us/step - loss: 0.4234 - accuracy: 0.8830\n",
      "Epoch 145/200\n",
      "10320/10320 [==============================] - 7s 726us/step - loss: 0.4273 - accuracy: 0.8800\n",
      "Epoch 146/200\n",
      "10320/10320 [==============================] - 8s 732us/step - loss: 0.4256 - accuracy: 0.8800\n",
      "Epoch 147/200\n",
      "10320/10320 [==============================] - 8s 736us/step - loss: 0.4206 - accuracy: 0.8801\n",
      "Epoch 148/200\n",
      "10320/10320 [==============================] - 8s 733us/step - loss: 0.4182 - accuracy: 0.8796\n",
      "Epoch 149/200\n",
      "10320/10320 [==============================] - 8s 737us/step - loss: 0.4324 - accuracy: 0.8796\n",
      "Epoch 150/200\n",
      "10320/10320 [==============================] - 8s 737us/step - loss: 0.4255 - accuracy: 0.8801\n",
      "Epoch 151/200\n"
     ]
    },
    {
     "name": "stdout",
     "output_type": "stream",
     "text": [
      "10320/10320 [==============================] - 7s 716us/step - loss: 0.4140 - accuracy: 0.8823\n",
      "Epoch 152/200\n",
      "10320/10320 [==============================] - 7s 726us/step - loss: 0.4371 - accuracy: 0.8795\n",
      "Epoch 153/200\n",
      "10320/10320 [==============================] - 7s 724us/step - loss: 0.4399 - accuracy: 0.8765\n",
      "Epoch 154/200\n",
      "10320/10320 [==============================] - 8s 737us/step - loss: 0.4365 - accuracy: 0.8770\n",
      "Epoch 155/200\n",
      "10320/10320 [==============================] - 8s 732us/step - loss: 0.4207 - accuracy: 0.8781\n",
      "Epoch 156/200\n",
      "10320/10320 [==============================] - 8s 730us/step - loss: 0.4286 - accuracy: 0.8765\n",
      "Epoch 157/200\n",
      "10320/10320 [==============================] - 7s 726us/step - loss: 0.4256 - accuracy: 0.8787\n",
      "Epoch 158/200\n",
      "10320/10320 [==============================] - 7s 725us/step - loss: 0.4335 - accuracy: 0.8787\n",
      "Epoch 159/200\n",
      "10320/10320 [==============================] - 8s 730us/step - loss: 0.4318 - accuracy: 0.8799\n",
      "Epoch 160/200\n",
      "10320/10320 [==============================] - 8s 727us/step - loss: 0.4368 - accuracy: 0.8757\n",
      "Epoch 161/200\n",
      "10320/10320 [==============================] - 8s 736us/step - loss: 0.4400 - accuracy: 0.8767\n",
      "Epoch 162/200\n",
      "10320/10320 [==============================] - 8s 738us/step - loss: 0.4354 - accuracy: 0.8767\n",
      "Epoch 163/200\n",
      "10320/10320 [==============================] - 7s 719us/step - loss: 0.4332 - accuracy: 0.8784\n",
      "Epoch 164/200\n",
      "10320/10320 [==============================] - 8s 735us/step - loss: 0.4474 - accuracy: 0.8756\n",
      "Epoch 165/200\n",
      "10320/10320 [==============================] - 8s 727us/step - loss: 0.4337 - accuracy: 0.8769\n",
      "Epoch 166/200\n",
      "10320/10320 [==============================] - 7s 717us/step - loss: 0.4484 - accuracy: 0.8752\n",
      "Epoch 167/200\n",
      "10320/10320 [==============================] - 8s 734us/step - loss: 0.4499 - accuracy: 0.8756\n",
      "Epoch 168/200\n",
      "10320/10320 [==============================] - 8s 746us/step - loss: 0.4420 - accuracy: 0.8757\n",
      "Epoch 169/200\n",
      "10320/10320 [==============================] - 7s 724us/step - loss: 0.4588 - accuracy: 0.8748\n",
      "Epoch 170/200\n",
      "10320/10320 [==============================] - 8s 729us/step - loss: 0.4561 - accuracy: 0.8746\n",
      "Epoch 171/200\n",
      "10320/10320 [==============================] - 7s 723us/step - loss: 0.4517 - accuracy: 0.8759\n",
      "Epoch 172/200\n",
      "10320/10320 [==============================] - 8s 738us/step - loss: 0.4560 - accuracy: 0.8758\n",
      "Epoch 173/200\n",
      "10320/10320 [==============================] - 7s 726us/step - loss: 0.4687 - accuracy: 0.8691\n",
      "Epoch 174/200\n",
      "10320/10320 [==============================] - 8s 729us/step - loss: 0.4666 - accuracy: 0.8711\n",
      "Epoch 175/200\n",
      "10320/10320 [==============================] - 7s 718us/step - loss: 0.4490 - accuracy: 0.8726\n",
      "Epoch 176/200\n",
      "10320/10320 [==============================] - 8s 732us/step - loss: 0.4555 - accuracy: 0.8707\n",
      "Epoch 177/200\n",
      "10320/10320 [==============================] - 8s 728us/step - loss: 0.4626 - accuracy: 0.8711\n",
      "Epoch 178/200\n",
      "10320/10320 [==============================] - 8s 734us/step - loss: 0.4759 - accuracy: 0.8694\n",
      "Epoch 179/200\n",
      "10320/10320 [==============================] - 7s 718us/step - loss: 0.4505 - accuracy: 0.8723\n",
      "Epoch 180/200\n",
      "10320/10320 [==============================] - 7s 691us/step - loss: 0.4895 - accuracy: 0.8670\n",
      "Epoch 181/200\n",
      "10320/10320 [==============================] - 7s 712us/step - loss: 0.4701 - accuracy: 0.8680\n",
      "Epoch 182/200\n",
      "10320/10320 [==============================] - 7s 715us/step - loss: 0.4821 - accuracy: 0.8683\n",
      "Epoch 183/200\n",
      "10320/10320 [==============================] - 7s 720us/step - loss: 0.4704 - accuracy: 0.8694\n",
      "Epoch 184/200\n",
      "10320/10320 [==============================] - 8s 727us/step - loss: 0.4914 - accuracy: 0.8649\n",
      "Epoch 185/200\n",
      "10320/10320 [==============================] - 7s 715us/step - loss: 0.4822 - accuracy: 0.8685\n",
      "Epoch 186/200\n",
      "10320/10320 [==============================] - 8s 728us/step - loss: 0.4870 - accuracy: 0.8661\n",
      "Epoch 187/200\n",
      "10320/10320 [==============================] - 7s 715us/step - loss: 0.4827 - accuracy: 0.8673\n",
      "Epoch 188/200\n",
      "10320/10320 [==============================] - 7s 725us/step - loss: 0.4760 - accuracy: 0.8657\n",
      "Epoch 189/200\n",
      "10320/10320 [==============================] - 7s 725us/step - loss: 0.4916 - accuracy: 0.8663\n",
      "Epoch 190/200\n",
      "10320/10320 [==============================] - 7s 726us/step - loss: 0.4850 - accuracy: 0.8649\n",
      "Epoch 191/200\n",
      "10320/10320 [==============================] - 7s 720us/step - loss: 0.4980 - accuracy: 0.8639\n",
      "Epoch 192/200\n",
      "10320/10320 [==============================] - 7s 718us/step - loss: 0.4839 - accuracy: 0.8662\n",
      "Epoch 193/200\n",
      "10320/10320 [==============================] - 7s 716us/step - loss: 0.4824 - accuracy: 0.8659\n",
      "Epoch 194/200\n",
      "10320/10320 [==============================] - 7s 719us/step - loss: 0.4779 - accuracy: 0.8655\n",
      "Epoch 195/200\n",
      "10320/10320 [==============================] - 7s 717us/step - loss: 0.4967 - accuracy: 0.8632\n",
      "Epoch 196/200\n",
      "10320/10320 [==============================] - 7s 719us/step - loss: 0.4857 - accuracy: 0.8648\n",
      "Epoch 197/200\n",
      "10320/10320 [==============================] - 8s 728us/step - loss: 0.4939 - accuracy: 0.8619\n",
      "Epoch 198/200\n",
      "10320/10320 [==============================] - 7s 718us/step - loss: 0.4777 - accuracy: 0.8663\n",
      "Epoch 199/200\n",
      "10320/10320 [==============================] - 7s 714us/step - loss: 0.5036 - accuracy: 0.8627\n",
      "Epoch 200/200\n",
      "10320/10320 [==============================] - 7s 723us/step - loss: 0.4919 - accuracy: 0.8629\n"
     ]
    }
   ],
   "source": [
    "#fitting and saving model\n",
    "\n",
    "chats = model.fit(np.array(train_x), np.array(train_y), epochs=200, batch_size=5, verbose=1)"
   ]
  },
  {
   "cell_type": "code",
   "execution_count": 10,
   "id": "eca77944",
   "metadata": {},
   "outputs": [],
   "source": [
    "model.save('accur_bot_model.h5')\n"
   ]
  },
  {
   "cell_type": "code",
   "execution_count": 11,
   "id": "2c2220a1",
   "metadata": {},
   "outputs": [],
   "source": [
    "chats.history  #checks the history the loss and accuracy"
   ]
  },
  {
   "cell_type": "code",
   "execution_count": 12,
   "id": "c71c6365",
   "metadata": {},
   "outputs": [
    {
     "data": {
      "image/png": "[encoded data removed]",
      "text/plain": [
       "<Figure size 432x288 with 1 Axes>"
      ]
     },
     "metadata": {
      "needs_background": "light"
     },
     "output_type": "display_data"
    }
   ],
   "source": [
    "import matplotlib.pyplot as plt  #graph for accuracy\n",
    "\n",
    "plt.plot(chats.history['accuracy'])\n",
    "plt.title('model.accuracy')\n",
    "plt.ylabel('accuracy')\n",
    "plt.xlabel('epoch')\n",
    "plt.legend(['train'], loc='upper left')\n",
    "plt.show()"
   ]
  },
  {
   "cell_type": "code",
   "execution_count": 13,
   "id": "06bf7bc4",
   "metadata": {},
   "outputs": [
    {
     "data": {
      "image/png": "[encoded data removed]",
      "text/plain": [
       "<Figure size 432x288 with 1 Axes>"
      ]
     },
     "metadata": {
      "needs_background": "light"
     },
     "output_type": "display_data"
    }
   ],
   "source": [
    "plt.plot(chats.history['loss'])  #graph for loss\n",
    "plt.title('model.loss')\n",
    "plt.ylabel('loss')\n",
    "plt.xlabel('epoch')\n",
    "plt.legend(['train'], loc='upper left')\n",
    "plt.show()"
   ]
  },
  {
   "cell_type": "code",
   "execution_count": null,
   "id": "6d220d5e",
   "metadata": {},
   "outputs": [],
   "source": [
    "#we need to test\n",
    "\n",
    "# loss, accuray = model.evaluate(x_test, y_test, batch_size=100)  #we wont update weight or anything just the batch_size specify loss and accuracy"
   ]
  },
  {
   "cell_type": "code",
   "execution_count": 15,
   "id": "643d7c29",
   "metadata": {},
   "outputs": [
    {
     "name": "stdout",
     "output_type": "stream",
     "text": [
      "Model: \"sequential\"\n",
      "_________________________________________________________________\n",
      " Layer (type)                Output Shape              Param #   \n",
      "=================================================================\n",
      " dense (Dense)               (None, 100)               24100     \n",
      "                                                                 \n",
      " dropout (Dropout)           (None, 100)               0         \n",
      "                                                                 \n",
      " dense_1 (Dense)             (None, 35)                3535      \n",
      "                                                                 \n",
      " dropout_1 (Dropout)         (None, 35)                0         \n",
      "                                                                 \n",
      " dense_2 (Dense)             (None, 75)                2700      \n",
      "                                                                 \n",
      "=================================================================\n",
      "Total params: 30,335\n",
      "Trainable params: 30,335\n",
      "Non-trainable params: 0\n",
      "_________________________________________________________________\n"
     ]
    }
   ],
   "source": [
    "model.summary()"
   ]
  },
  {
   "cell_type": "code",
   "execution_count": 16,
   "id": "cc53987f",
   "metadata": {},
   "outputs": [],
   "source": [
    "#we need to use validation data. track how the network performs "
   ]
  },
  {
   "cell_type": "code",
   "execution_count": 17,
   "id": "4febee4f",
   "metadata": {},
   "outputs": [
    {
     "name": "stdout",
     "output_type": "stream",
     "text": [
      "Epoch 1/100\n",
      "9288/9288 [==============================] - 8s 807us/step - loss: 0.5039 - accuracy: 0.8596 - val_loss: 0.0356 - val_accuracy: 0.9820\n",
      "Epoch 2/100\n",
      "9288/9288 [==============================] - 7s 788us/step - loss: 0.5118 - accuracy: 0.8608 - val_loss: 0.0401 - val_accuracy: 0.9828\n",
      "Epoch 3/100\n",
      "9288/9288 [==============================] - 7s 804us/step - loss: 0.5053 - accuracy: 0.8621 - val_loss: 0.0388 - val_accuracy: 0.9820\n",
      "Epoch 4/100\n",
      "9288/9288 [==============================] - 7s 791us/step - loss: 0.5119 - accuracy: 0.8581 - val_loss: 0.0409 - val_accuracy: 0.9810\n",
      "Epoch 5/100\n",
      "9288/9288 [==============================] - 8s 808us/step - loss: 0.5013 - accuracy: 0.8599 - val_loss: 0.0416 - val_accuracy: 0.9828\n",
      "Epoch 6/100\n",
      "9288/9288 [==============================] - 7s 776us/step - loss: 0.5186 - accuracy: 0.8564 - val_loss: 0.0486 - val_accuracy: 0.9828\n",
      "Epoch 7/100\n",
      "9288/9288 [==============================] - 8s 808us/step - loss: 0.5204 - accuracy: 0.8570 - val_loss: 0.0464 - val_accuracy: 0.9828\n",
      "Epoch 8/100\n",
      "9288/9288 [==============================] - 7s 784us/step - loss: 0.5134 - accuracy: 0.8590 - val_loss: 0.0461 - val_accuracy: 0.9828\n",
      "Epoch 9/100\n",
      "9288/9288 [==============================] - 8s 808us/step - loss: 0.5287 - accuracy: 0.8578 - val_loss: 0.0443 - val_accuracy: 0.9828\n",
      "Epoch 10/100\n",
      "9288/9288 [==============================] - 7s 786us/step - loss: 0.5211 - accuracy: 0.8567 - val_loss: 0.0460 - val_accuracy: 0.9828\n",
      "Epoch 11/100\n",
      "9288/9288 [==============================] - 7s 803us/step - loss: 0.5155 - accuracy: 0.8577 - val_loss: 0.0480 - val_accuracy: 0.9828\n",
      "Epoch 12/100\n",
      "9288/9288 [==============================] - 7s 801us/step - loss: 0.5387 - accuracy: 0.8553 - val_loss: 0.0481 - val_accuracy: 0.9828\n",
      "Epoch 13/100\n",
      "9288/9288 [==============================] - 7s 798us/step - loss: 0.5399 - accuracy: 0.8562 - val_loss: 0.0459 - val_accuracy: 0.9828\n",
      "Epoch 14/100\n",
      "9288/9288 [==============================] - 7s 807us/step - loss: 0.5407 - accuracy: 0.8534 - val_loss: 0.0487 - val_accuracy: 0.9837\n",
      "Epoch 15/100\n",
      "9288/9288 [==============================] - 7s 800us/step - loss: 0.5483 - accuracy: 0.8528 - val_loss: 0.0487 - val_accuracy: 0.9837\n",
      "Epoch 16/100\n",
      "9288/9288 [==============================] - 7s 803us/step - loss: 0.5134 - accuracy: 0.8548 - val_loss: 0.0458 - val_accuracy: 0.9828\n",
      "Epoch 17/100\n",
      "9288/9288 [==============================] - 7s 795us/step - loss: 0.5498 - accuracy: 0.8525 - val_loss: 0.0446 - val_accuracy: 0.9837\n",
      "Epoch 18/100\n",
      "9288/9288 [==============================] - 8s 819us/step - loss: 0.5302 - accuracy: 0.8533 - val_loss: 0.0468 - val_accuracy: 0.9828\n",
      "Epoch 19/100\n",
      "9288/9288 [==============================] - 7s 797us/step - loss: 0.5500 - accuracy: 0.8531 - val_loss: 0.0476 - val_accuracy: 0.9828\n",
      "Epoch 20/100\n",
      "9288/9288 [==============================] - 7s 802us/step - loss: 0.5517 - accuracy: 0.8518 - val_loss: 0.0529 - val_accuracy: 0.9828\n",
      "Epoch 21/100\n",
      "9288/9288 [==============================] - 8s 807us/step - loss: 0.5404 - accuracy: 0.8494 - val_loss: 0.0536 - val_accuracy: 0.9828\n",
      "Epoch 22/100\n",
      "9288/9288 [==============================] - 7s 806us/step - loss: 0.5241 - accuracy: 0.8506 - val_loss: 0.0514 - val_accuracy: 0.9828\n",
      "Epoch 23/100\n",
      "9288/9288 [==============================] - 8s 823us/step - loss: 0.5626 - accuracy: 0.8471 - val_loss: 0.0524 - val_accuracy: 0.9837\n",
      "Epoch 24/100\n",
      "9288/9288 [==============================] - 8s 856us/step - loss: 0.5690 - accuracy: 0.8422 - val_loss: 0.0606 - val_accuracy: 0.9707\n",
      "Epoch 25/100\n",
      "9288/9288 [==============================] - 7s 792us/step - loss: 0.5635 - accuracy: 0.8471 - val_loss: 0.0563 - val_accuracy: 0.9837\n",
      "Epoch 26/100\n",
      "9288/9288 [==============================] - 7s 793us/step - loss: 0.5670 - accuracy: 0.8466 - val_loss: 0.0566 - val_accuracy: 0.9837\n",
      "Epoch 27/100\n",
      "9288/9288 [==============================] - 7s 797us/step - loss: 0.5606 - accuracy: 0.8457 - val_loss: 0.0543 - val_accuracy: 0.9837\n",
      "Epoch 28/100\n",
      "9288/9288 [==============================] - 8s 817us/step - loss: 0.5766 - accuracy: 0.8425 - val_loss: 0.0609 - val_accuracy: 0.9837\n",
      "Epoch 29/100\n",
      "9288/9288 [==============================] - 8s 821us/step - loss: 0.5671 - accuracy: 0.8424 - val_loss: 0.0504 - val_accuracy: 0.9837\n",
      "Epoch 30/100\n",
      "9288/9288 [==============================] - 7s 800us/step - loss: 0.5895 - accuracy: 0.8413 - val_loss: 0.0596 - val_accuracy: 0.9717\n",
      "Epoch 31/100\n",
      "9288/9288 [==============================] - 8s 810us/step - loss: 0.5638 - accuracy: 0.8443 - val_loss: 0.0550 - val_accuracy: 0.9837\n",
      "Epoch 32/100\n",
      "9288/9288 [==============================] - 8s 811us/step - loss: 0.5854 - accuracy: 0.8432 - val_loss: 0.0642 - val_accuracy: 0.9783\n",
      "Epoch 33/100\n",
      "9288/9288 [==============================] - 8s 823us/step - loss: 0.5628 - accuracy: 0.8453 - val_loss: 0.0582 - val_accuracy: 0.9717\n",
      "Epoch 34/100\n",
      "9288/9288 [==============================] - 7s 807us/step - loss: 0.5732 - accuracy: 0.8421 - val_loss: 0.0578 - val_accuracy: 0.9837\n",
      "Epoch 35/100\n",
      "9288/9288 [==============================] - 8s 810us/step - loss: 0.5716 - accuracy: 0.8428 - val_loss: 0.0613 - val_accuracy: 0.9820\n",
      "Epoch 36/100\n",
      "9288/9288 [==============================] - 8s 830us/step - loss: 0.5931 - accuracy: 0.8398 - val_loss: 0.0671 - val_accuracy: 0.9717\n",
      "Epoch 37/100\n",
      "9288/9288 [==============================] - 7s 782us/step - loss: 0.5963 - accuracy: 0.8376 - val_loss: 0.0594 - val_accuracy: 0.9828\n",
      "Epoch 38/100\n",
      "9288/9288 [==============================] - 8s 816us/step - loss: 0.5778 - accuracy: 0.8390 - val_loss: 0.0585 - val_accuracy: 0.9717\n",
      "Epoch 39/100\n",
      "9288/9288 [==============================] - 7s 801us/step - loss: 0.5656 - accuracy: 0.8413 - val_loss: 0.0590 - val_accuracy: 0.9837\n",
      "Epoch 40/100\n",
      "9288/9288 [==============================] - 7s 794us/step - loss: 0.5755 - accuracy: 0.8380 - val_loss: 0.0585 - val_accuracy: 0.9837\n",
      "Epoch 41/100\n",
      "9288/9288 [==============================] - 7s 794us/step - loss: 0.6004 - accuracy: 0.8375 - val_loss: 0.0694 - val_accuracy: 0.9717\n",
      "Epoch 42/100\n",
      "9288/9288 [==============================] - 7s 798us/step - loss: 0.5931 - accuracy: 0.8371 - val_loss: 0.0629 - val_accuracy: 0.9717\n",
      "Epoch 43/100\n",
      "9288/9288 [==============================] - 7s 804us/step - loss: 0.5925 - accuracy: 0.8379 - val_loss: 0.0685 - val_accuracy: 0.9783\n",
      "Epoch 44/100\n",
      "9288/9288 [==============================] - 7s 803us/step - loss: 0.6026 - accuracy: 0.8353 - val_loss: 0.0606 - val_accuracy: 0.9707\n",
      "Epoch 45/100\n",
      "9288/9288 [==============================] - 7s 790us/step - loss: 0.5961 - accuracy: 0.8325 - val_loss: 0.0652 - val_accuracy: 0.9810\n",
      "Epoch 46/100\n",
      "9288/9288 [==============================] - 7s 796us/step - loss: 0.6128 - accuracy: 0.8334 - val_loss: 0.0716 - val_accuracy: 0.9707\n",
      "Epoch 47/100\n",
      "9288/9288 [==============================] - 7s 794us/step - loss: 0.6170 - accuracy: 0.8314 - val_loss: 0.0607 - val_accuracy: 0.9837\n",
      "Epoch 48/100\n",
      "9288/9288 [==============================] - 7s 799us/step - loss: 0.6211 - accuracy: 0.8303 - val_loss: 0.0634 - val_accuracy: 0.9707\n",
      "Epoch 49/100\n",
      "9288/9288 [==============================] - 7s 801us/step - loss: 0.6110 - accuracy: 0.8339 - val_loss: 0.0751 - val_accuracy: 0.9754\n",
      "Epoch 50/100\n",
      "9288/9288 [==============================] - 7s 791us/step - loss: 0.6024 - accuracy: 0.8327 - val_loss: 0.0698 - val_accuracy: 0.9707\n",
      "Epoch 51/100\n",
      "9288/9288 [==============================] - 7s 798us/step - loss: 0.6286 - accuracy: 0.8291 - val_loss: 0.0799 - val_accuracy: 0.9756\n",
      "Epoch 52/100\n",
      "9288/9288 [==============================] - 7s 796us/step - loss: 0.6328 - accuracy: 0.8290 - val_loss: 0.0696 - val_accuracy: 0.9717\n",
      "Epoch 53/100\n",
      "9288/9288 [==============================] - 7s 794us/step - loss: 0.6342 - accuracy: 0.8269 - val_loss: 0.0776 - val_accuracy: 0.9688\n",
      "Epoch 54/100\n",
      "9288/9288 [==============================] - 7s 797us/step - loss: 0.6223 - accuracy: 0.8278 - val_loss: 0.0867 - val_accuracy: 0.9641\n",
      "Epoch 55/100\n",
      "9288/9288 [==============================] - 7s 805us/step - loss: 0.6461 - accuracy: 0.8248 - val_loss: 0.0688 - val_accuracy: 0.9762\n",
      "Epoch 56/100\n"
     ]
    },
    {
     "name": "stdout",
     "output_type": "stream",
     "text": [
      "9288/9288 [==============================] - 7s 802us/step - loss: 0.6196 - accuracy: 0.8316 - val_loss: 0.0808 - val_accuracy: 0.9651\n",
      "Epoch 57/100\n",
      "9288/9288 [==============================] - 7s 793us/step - loss: 0.6446 - accuracy: 0.8259 - val_loss: 0.0808 - val_accuracy: 0.9762\n",
      "Epoch 58/100\n",
      "9288/9288 [==============================] - 7s 789us/step - loss: 0.6601 - accuracy: 0.8244 - val_loss: 0.0883 - val_accuracy: 0.9719\n",
      "Epoch 59/100\n",
      "9288/9288 [==============================] - 7s 782us/step - loss: 0.6477 - accuracy: 0.8235 - val_loss: 0.0802 - val_accuracy: 0.9688\n",
      "Epoch 60/100\n",
      "9288/9288 [==============================] - 8s 814us/step - loss: 0.6522 - accuracy: 0.8248 - val_loss: 0.0845 - val_accuracy: 0.9754\n",
      "Epoch 61/100\n",
      "9288/9288 [==============================] - 7s 801us/step - loss: 0.6868 - accuracy: 0.8188 - val_loss: 0.0863 - val_accuracy: 0.9771\n",
      "Epoch 62/100\n",
      "9288/9288 [==============================] - 8s 810us/step - loss: 0.6553 - accuracy: 0.8234 - val_loss: 0.0897 - val_accuracy: 0.9762\n",
      "Epoch 63/100\n",
      "9288/9288 [==============================] - 7s 797us/step - loss: 0.6574 - accuracy: 0.8182 - val_loss: 0.0904 - val_accuracy: 0.9690\n",
      "Epoch 64/100\n",
      "9288/9288 [==============================] - 8s 814us/step - loss: 0.6643 - accuracy: 0.8167 - val_loss: 0.0863 - val_accuracy: 0.9651\n",
      "Epoch 65/100\n",
      "9288/9288 [==============================] - 7s 789us/step - loss: 0.6622 - accuracy: 0.8197 - val_loss: 0.0896 - val_accuracy: 0.9744\n",
      "Epoch 66/100\n",
      "9288/9288 [==============================] - 8s 808us/step - loss: 0.6835 - accuracy: 0.8180 - val_loss: 0.0922 - val_accuracy: 0.9744\n",
      "Epoch 67/100\n",
      "9288/9288 [==============================] - 7s 807us/step - loss: 0.6676 - accuracy: 0.8196 - val_loss: 0.0864 - val_accuracy: 0.9744\n",
      "Epoch 68/100\n",
      "9288/9288 [==============================] - 7s 788us/step - loss: 0.6576 - accuracy: 0.8186 - val_loss: 0.0915 - val_accuracy: 0.9744\n",
      "Epoch 69/100\n",
      "9288/9288 [==============================] - 7s 782us/step - loss: 0.6922 - accuracy: 0.8139 - val_loss: 0.0944 - val_accuracy: 0.9744\n",
      "Epoch 70/100\n",
      "9288/9288 [==============================] - 7s 799us/step - loss: 0.6854 - accuracy: 0.8137 - val_loss: 0.0916 - val_accuracy: 0.9707\n",
      "Epoch 71/100\n",
      "9288/9288 [==============================] - 7s 805us/step - loss: 0.6743 - accuracy: 0.8154 - val_loss: 0.0914 - val_accuracy: 0.9762\n",
      "Epoch 72/100\n",
      "9288/9288 [==============================] - 7s 794us/step - loss: 0.6857 - accuracy: 0.8146 - val_loss: 0.0903 - val_accuracy: 0.9744\n",
      "Epoch 73/100\n",
      "9288/9288 [==============================] - 7s 802us/step - loss: 0.6992 - accuracy: 0.8132 - val_loss: 0.0947 - val_accuracy: 0.9762\n",
      "Epoch 74/100\n",
      "9288/9288 [==============================] - 7s 803us/step - loss: 0.6816 - accuracy: 0.8108 - val_loss: 0.0870 - val_accuracy: 0.9762\n",
      "Epoch 75/100\n",
      "9288/9288 [==============================] - 8s 815us/step - loss: 0.6820 - accuracy: 0.8135 - val_loss: 0.0932 - val_accuracy: 0.9762\n",
      "Epoch 76/100\n",
      "9288/9288 [==============================] - 7s 798us/step - loss: 0.6962 - accuracy: 0.8094 - val_loss: 0.0899 - val_accuracy: 0.9762\n",
      "Epoch 77/100\n",
      "9288/9288 [==============================] - 7s 787us/step - loss: 0.7065 - accuracy: 0.8119 - val_loss: 0.0911 - val_accuracy: 0.9762\n",
      "Epoch 78/100\n",
      "9288/9288 [==============================] - 7s 804us/step - loss: 0.6915 - accuracy: 0.8123 - val_loss: 0.0938 - val_accuracy: 0.9762\n",
      "Epoch 79/100\n",
      "9288/9288 [==============================] - 7s 807us/step - loss: 0.6918 - accuracy: 0.8096 - val_loss: 0.1063 - val_accuracy: 0.9707\n",
      "Epoch 80/100\n",
      "9288/9288 [==============================] - 7s 803us/step - loss: 0.6927 - accuracy: 0.8142 - val_loss: 0.1027 - val_accuracy: 0.9707\n",
      "Epoch 81/100\n",
      "9288/9288 [==============================] - 8s 815us/step - loss: 0.6911 - accuracy: 0.8124 - val_loss: 0.0978 - val_accuracy: 0.9762\n",
      "Epoch 82/100\n",
      "9288/9288 [==============================] - 7s 792us/step - loss: 0.6739 - accuracy: 0.8107 - val_loss: 0.1018 - val_accuracy: 0.9762\n",
      "Epoch 83/100\n",
      "9288/9288 [==============================] - 7s 803us/step - loss: 0.7116 - accuracy: 0.8079 - val_loss: 0.1045 - val_accuracy: 0.9781\n",
      "Epoch 84/100\n",
      "9288/9288 [==============================] - 7s 782us/step - loss: 0.7087 - accuracy: 0.8064 - val_loss: 0.1096 - val_accuracy: 0.9707\n",
      "Epoch 85/100\n",
      "9288/9288 [==============================] - 7s 804us/step - loss: 0.7126 - accuracy: 0.8048 - val_loss: 0.1069 - val_accuracy: 0.9690\n",
      "Epoch 86/100\n",
      "9288/9288 [==============================] - 7s 804us/step - loss: 0.7181 - accuracy: 0.8034 - val_loss: 0.1051 - val_accuracy: 0.9727\n",
      "Epoch 87/100\n",
      "9288/9288 [==============================] - 7s 804us/step - loss: 0.7060 - accuracy: 0.8027 - val_loss: 0.1085 - val_accuracy: 0.9674\n",
      "Epoch 88/100\n",
      "9288/9288 [==============================] - 8s 838us/step - loss: 0.7208 - accuracy: 0.8011 - val_loss: 0.1112 - val_accuracy: 0.9653\n",
      "Epoch 89/100\n",
      "9288/9288 [==============================] - 8s 838us/step - loss: 0.7488 - accuracy: 0.7987 - val_loss: 0.1079 - val_accuracy: 0.9653\n",
      "Epoch 90/100\n",
      "9288/9288 [==============================] - 8s 823us/step - loss: 0.7179 - accuracy: 0.8021 - val_loss: 0.1228 - val_accuracy: 0.9653\n",
      "Epoch 91/100\n",
      "9288/9288 [==============================] - 7s 804us/step - loss: 0.7323 - accuracy: 0.7994 - val_loss: 0.1204 - val_accuracy: 0.9653\n",
      "Epoch 92/100\n",
      "9288/9288 [==============================] - 8s 810us/step - loss: 0.7248 - accuracy: 0.7990 - val_loss: 0.1231 - val_accuracy: 0.9672\n",
      "Epoch 93/100\n",
      "9288/9288 [==============================] - 7s 791us/step - loss: 0.7492 - accuracy: 0.7956 - val_loss: 0.1285 - val_accuracy: 0.9727\n",
      "Epoch 94/100\n",
      "9288/9288 [==============================] - 8s 811us/step - loss: 0.7391 - accuracy: 0.7984 - val_loss: 0.1474 - val_accuracy: 0.9589\n",
      "Epoch 95/100\n",
      "9288/9288 [==============================] - 7s 806us/step - loss: 0.7260 - accuracy: 0.8023 - val_loss: 0.1267 - val_accuracy: 0.9707\n",
      "Epoch 96/100\n",
      "9288/9288 [==============================] - 8s 809us/step - loss: 0.7464 - accuracy: 0.7964 - val_loss: 0.1356 - val_accuracy: 0.9653\n",
      "Epoch 97/100\n",
      "9288/9288 [==============================] - 7s 790us/step - loss: 0.7449 - accuracy: 0.7965 - val_loss: 0.1300 - val_accuracy: 0.9653\n",
      "Epoch 98/100\n",
      "9288/9288 [==============================] - 7s 806us/step - loss: 0.7515 - accuracy: 0.7981 - val_loss: 0.1410 - val_accuracy: 0.9562\n",
      "Epoch 99/100\n",
      "9288/9288 [==============================] - 8s 815us/step - loss: 0.7811 - accuracy: 0.7939 - val_loss: 0.1303 - val_accuracy: 0.9653\n",
      "Epoch 100/100\n",
      "9288/9288 [==============================] - 8s 816us/step - loss: 0.7586 - accuracy: 0.7951 - val_loss: 0.1299 - val_accuracy: 0.9607\n"
     ]
    }
   ],
   "source": [
    "chats = model.fit(np.array(train_x), np.array(train_y), epochs=100, batch_size=5, validation_split=0.1)"
   ]
  },
  {
   "cell_type": "code",
   "execution_count": 18,
   "id": "84729040",
   "metadata": {},
   "outputs": [
    {
     "data": {
      "text/plain": [
       "dict_keys(['loss', 'accuracy', 'val_loss', 'val_accuracy'])"
      ]
     },
     "execution_count": 18,
     "metadata": {},
     "output_type": "execute_result"
    }
   ],
   "source": [
    "chats.history.keys()     #validation curve how model perform with unseen data"
   ]
  },
  {
   "cell_type": "code",
   "execution_count": 19,
   "id": "1ba5831b",
   "metadata": {},
   "outputs": [
    {
     "data": {
      "image/png": "[encoded data removed]",
      "text/plain": [
       "<Figure size 432x288 with 1 Axes>"
      ]
     },
     "metadata": {
      "needs_background": "light"
     },
     "output_type": "display_data"
    }
   ],
   "source": [
    "plt.plot(chats.history['accuracy'])         #graph for validation curve(bad)\n",
    "plt.plot(chats.history['val_accuracy'])\n",
    "plt.title('model.loss')\n",
    "plt.ylabel('accuracy')\n",
    "plt.xlabel('epoch')\n",
    "plt.legend(['train'], loc='upper left')\n",
    "plt.show()"
   ]
  },
  {
   "cell_type": "code",
   "execution_count": 20,
   "id": "b5bad4c1",
   "metadata": {},
   "outputs": [
    {
     "data": {
      "image/png": "[encoded data removed]",
      "text/plain": [
       "<Figure size 432x288 with 1 Axes>"
      ]
     },
     "metadata": {
      "needs_background": "light"
     },
     "output_type": "display_data"
    }
   ],
   "source": [
    "plt.plot(chats.history['loss'])  #loss\n",
    "plt.plot(chats.history['val_loss'])\n",
    "plt.title('model.loss')\n",
    "plt.ylabel('loss')\n",
    "plt.xlabel('epoch')\n",
    "plt.legend(['train'], loc='upper left')\n",
    "plt.show()"
   ]
  },
  {
   "cell_type": "code",
   "execution_count": 21,
   "id": "9dc0aabd",
   "metadata": {},
   "outputs": [],
   "source": [
    "#high bias\n",
    "#error on training data set. how much error is there in model while training data\n",
    "#blue-training orange-validation\n",
    "\n",
    "# training is less than 6percent. highly bias. not trained well\n",
    "\n",
    "#variance how much worse it works on testing set\n",
    "\n",
    "#training acuraccy close to 10 validation is less high variance\n"
   ]
  },
  {
   "cell_type": "code",
   "execution_count": 22,
   "id": "d36620f1",
   "metadata": {},
   "outputs": [
    {
     "name": "stdout",
     "output_type": "stream",
     "text": [
      "You must install pydot (`pip install pydot`) and install graphviz (see instructions at https://graphviz.gitlab.io/download/) for plot_model/model_to_dot to work.\n"
     ]
    }
   ],
   "source": [
    "import tensorflow as tf\n",
    "tf.keras.utils.plot_model(model, to_file='simple.png', show_shapes=True)  #?batch size 1 shape of each sample, output provided to the hiden layer where "
   ]
  },
  {
   "cell_type": "code",
   "execution_count": 23,
   "id": "eef5064d",
   "metadata": {},
   "outputs": [
    {
     "data": {
      "text/plain": [
       "[<keras.layers.core.dense.Dense at 0x230e49aa5c0>,\n",
       " <keras.layers.regularization.dropout.Dropout at 0x230e49a9840>,\n",
       " <keras.layers.core.dense.Dense at 0x230e49b5690>,\n",
       " <keras.layers.regularization.dropout.Dropout at 0x230e49b5750>,\n",
       " <keras.layers.core.dense.Dense at 0x230e49b7550>]"
      ]
     },
     "execution_count": 23,
     "metadata": {},
     "output_type": "execute_result"
    }
   ],
   "source": [
    "model.layers  #print the layers"
   ]
  },
  {
   "cell_type": "code",
   "execution_count": 24,
   "id": "ff89a98a",
   "metadata": {},
   "outputs": [
    {
     "data": {
      "text/plain": [
       "<keras.layers.core.dense.Dense at 0x230e49aa5c0>"
      ]
     },
     "execution_count": 24,
     "metadata": {},
     "output_type": "execute_result"
    }
   ],
   "source": [
    "model.layers[0]  #individual layers"
   ]
  },
  {
   "cell_type": "code",
   "execution_count": 26,
   "id": "b24f0067",
   "metadata": {},
   "outputs": [
    {
     "data": {
      "text/plain": [
       "<keras.layers.regularization.dropout.Dropout at 0x230e49a9840>"
      ]
     },
     "execution_count": 26,
     "metadata": {},
     "output_type": "execute_result"
    }
   ],
   "source": [
    "model.get_layer('dropout')"
   ]
  },
  {
   "cell_type": "code",
   "execution_count": 27,
   "id": "023c1013",
   "metadata": {},
   "outputs": [
    {
     "name": "stdout",
     "output_type": "stream",
     "text": [
      "[0.72984729 0.73448604 0.16929003 0.30385023 0.56036469 0.11373292\n",
      " 0.16032238 0.20450683 0.44027116 0.64146009 0.97407317 0.08275317\n",
      " 0.69585922 0.25310118 0.27000077 0.53503828 0.13038332 0.32998199\n",
      " 0.68874907 0.76641546 0.21233746 0.53553337 0.08875524 0.7448438\n",
      " 0.03514    0.81952018 0.27673261 0.59397648 0.78115874 0.32764807\n",
      " 0.77366358 0.09660522 0.57974251 0.6233498  0.0267052  0.90984475\n",
      " 0.34768292 0.39585609 0.63095301 0.86453037 0.49318509 0.58593943\n",
      " 0.0130296  0.41970367 0.3460481  0.26972083 0.04353586 0.27045044\n",
      " 0.01935156 0.37264109 0.67033565 0.42332986 0.21609655 0.97762675\n",
      " 0.30853085 0.90042671 0.37661104 0.90895756 0.77084956 0.38969885\n",
      " 0.32870142 0.44463655 0.45119674 0.19327292 0.52102136 0.26234043\n",
      " 0.24664988 0.71606162 0.32987553 0.36288579 0.88630594 0.88334756\n",
      " 0.00244393 0.98483346 0.51934665 0.39558224 0.65982316 0.03169612\n",
      " 0.24553202 0.91970667 0.34954916 0.92037474 0.24883513 0.96718476\n",
      " 0.05489779 0.35228077 0.38401357 0.4138035  0.79914031 0.40624907\n",
      " 0.74498708 0.84341993 0.99713395 0.28071639 0.43543312 0.01911682\n",
      " 0.92217016 0.74506498 0.01422028 0.81067891]\n",
      "[0.72984729 0.73448604 0.16929003 0.30385023 0.56036469 0.11373292\n",
      " 0.16032238 0.20450683 0.44027116 0.64146009 0.97407317 0.08275317\n",
      " 0.69585922 0.25310118 0.27000077 0.53503828 0.13038332 0.32998199\n",
      " 0.68874907 0.76641546 0.21233746 0.53553337 0.08875524 0.7448438\n",
      " 0.03514    0.81952018 0.27673261 0.59397648 0.78115874 0.32764807\n",
      " 0.77366358 0.09660522 0.57974251 0.6233498  0.0267052  0.90984475\n",
      " 0.34768292 0.39585609 0.63095301 0.86453037 0.49318509 0.58593943\n",
      " 0.0130296  0.41970367 0.3460481  0.26972083 0.04353586 0.27045044\n",
      " 0.01935156 0.37264109 0.67033565 0.42332986 0.21609655 0.97762675\n",
      " 0.30853085 0.90042671 0.37661104 0.90895756 0.77084956 0.38969885\n",
      " 0.32870142 0.44463655 0.45119674 0.19327292 0.52102136 0.26234043\n",
      " 0.24664988 0.71606162 0.32987553 0.36288579 0.88630594 0.88334756\n",
      " 0.00244393 0.98483346 0.51934665 0.39558224 0.65982316 0.03169612\n",
      " 0.24553202 0.91970667 0.34954916 0.92037474 0.24883513 0.96718476\n",
      " 0.05489779 0.35228077 0.38401357 0.4138035  0.79914031 0.40624907\n",
      " 0.74498708 0.84341993 0.99713395 0.28071639 0.43543312 0.01911682\n",
      " 0.92217016 0.74506498 0.01422028 0.81067891]\n"
     ]
    }
   ],
   "source": [
    "#mean input and output\n",
    "import random\n",
    "import numpy as np\n",
    "x= np.random.rand(100)\n",
    "y=x\n",
    "print(x)\n",
    "print(y)"
   ]
  },
  {
   "cell_type": "code",
   "execution_count": 28,
   "id": "23d9cd34",
   "metadata": {},
   "outputs": [
    {
     "ename": "AttributeError",
     "evalue": "module 'keras.api._v2.keras.losses' has no attribute 'mean_absolute'",
     "output_type": "error",
     "traceback": [
      "\u001b[1;31m---------------------------------------------------------------------------\u001b[0m",
      "\u001b[1;31mAttributeError\u001b[0m                            Traceback (most recent call last)",
      "Input \u001b[1;32mIn [28]\u001b[0m, in \u001b[0;36m<cell line: 3>\u001b[1;34m()\u001b[0m\n\u001b[0;32m      1\u001b[0m \u001b[38;5;66;03m#configuration\u001b[39;00m\n\u001b[1;32m----> 3\u001b[0m model\u001b[38;5;241m.\u001b[39mcompile(optimizer\u001b[38;5;241m=\u001b[39m\u001b[38;5;124m'\u001b[39m\u001b[38;5;124madam\u001b[39m\u001b[38;5;124m'\u001b[39m, loss\u001b[38;5;241m=\u001b[39m\u001b[43mtf\u001b[49m\u001b[38;5;241;43m.\u001b[39;49m\u001b[43mkeras\u001b[49m\u001b[38;5;241;43m.\u001b[39;49m\u001b[43mlosses\u001b[49m\u001b[38;5;241;43m.\u001b[39;49m\u001b[43mmean_absolute\u001b[49m(error))\n",
      "\u001b[1;31mAttributeError\u001b[0m: module 'keras.api._v2.keras.losses' has no attribute 'mean_absolute'"
     ]
    }
   ],
   "source": [
    "#configuration\n",
    "\n",
    "# model.compile(optimizer='adam', loss=tf.keras.losses.mean_absolute(error))"
   ]
  },
  {
   "cell_type": "code",
   "execution_count": 29,
   "id": "f259dbcf",
   "metadata": {},
   "outputs": [
    {
     "name": "stdout",
     "output_type": "stream",
     "text": [
      "WARNING:tensorflow:Model was constructed with shape (None, 240) for input KerasTensor(type_spec=TensorSpec(shape=(None, 240), dtype=tf.float32, name='dense_input'), name='dense_input', description=\"created by layer 'dense_input'\"), but it was called on an input with incompatible shape (None,).\n"
     ]
    },
    {
     "ename": "ValueError",
     "evalue": "in user code:\n\n    File \"C:\\Users\\ACER NITRO\\AppData\\Local\\Programs\\Python\\Python310\\lib\\site-packages\\keras\\engine\\training.py\", line 1051, in train_function  *\n        return step_function(self, iterator)\n    File \"C:\\Users\\ACER NITRO\\AppData\\Local\\Programs\\Python\\Python310\\lib\\site-packages\\keras\\engine\\training.py\", line 1040, in step_function  **\n        outputs = model.distribute_strategy.run(run_step, args=(data,))\n    File \"C:\\Users\\ACER NITRO\\AppData\\Local\\Programs\\Python\\Python310\\lib\\site-packages\\keras\\engine\\training.py\", line 1030, in run_step  **\n        outputs = model.train_step(data)\n    File \"C:\\Users\\ACER NITRO\\AppData\\Local\\Programs\\Python\\Python310\\lib\\site-packages\\keras\\engine\\training.py\", line 889, in train_step\n        y_pred = self(x, training=True)\n    File \"C:\\Users\\ACER NITRO\\AppData\\Local\\Programs\\Python\\Python310\\lib\\site-packages\\keras\\utils\\traceback_utils.py\", line 67, in error_handler\n        raise e.with_traceback(filtered_tb) from None\n    File \"C:\\Users\\ACER NITRO\\AppData\\Local\\Programs\\Python\\Python310\\lib\\site-packages\\keras\\engine\\input_spec.py\", line 228, in assert_input_compatibility\n        raise ValueError(f'Input {input_index} of layer \"{layer_name}\" '\n\n    ValueError: Exception encountered when calling layer \"sequential\" (type Sequential).\n    \n    Input 0 of layer \"dense\" is incompatible with the layer: expected min_ndim=2, found ndim=1. Full shape received: (None,)\n    \n    Call arguments received by layer \"sequential\" (type Sequential):\n      • inputs=tf.Tensor(shape=(None,), dtype=float32)\n      • training=True\n      • mask=None\n",
     "output_type": "error",
     "traceback": [
      "\u001b[1;31m---------------------------------------------------------------------------\u001b[0m",
      "\u001b[1;31mValueError\u001b[0m                                Traceback (most recent call last)",
      "Input \u001b[1;32mIn [29]\u001b[0m, in \u001b[0;36m<cell line: 3>\u001b[1;34m()\u001b[0m\n\u001b[0;32m      1\u001b[0m \u001b[38;5;66;03m#train model\u001b[39;00m\n\u001b[1;32m----> 3\u001b[0m \u001b[43mmodel\u001b[49m\u001b[38;5;241;43m.\u001b[39;49m\u001b[43mfit\u001b[49m\u001b[43m(\u001b[49m\u001b[43mx\u001b[49m\u001b[43m,\u001b[49m\u001b[43m \u001b[49m\u001b[43my\u001b[49m\u001b[43m)\u001b[49m\n",
      "File \u001b[1;32m~\\AppData\\Local\\Programs\\Python\\Python310\\lib\\site-packages\\keras\\utils\\traceback_utils.py:67\u001b[0m, in \u001b[0;36mfilter_traceback.<locals>.error_handler\u001b[1;34m(*args, **kwargs)\u001b[0m\n\u001b[0;32m     65\u001b[0m \u001b[38;5;28;01mexcept\u001b[39;00m \u001b[38;5;167;01mException\u001b[39;00m \u001b[38;5;28;01mas\u001b[39;00m e:  \u001b[38;5;66;03m# pylint: disable=broad-except\u001b[39;00m\n\u001b[0;32m     66\u001b[0m   filtered_tb \u001b[38;5;241m=\u001b[39m _process_traceback_frames(e\u001b[38;5;241m.\u001b[39m__traceback__)\n\u001b[1;32m---> 67\u001b[0m   \u001b[38;5;28;01mraise\u001b[39;00m e\u001b[38;5;241m.\u001b[39mwith_traceback(filtered_tb) \u001b[38;5;28;01mfrom\u001b[39;00m \u001b[38;5;28mNone\u001b[39m\n\u001b[0;32m     68\u001b[0m \u001b[38;5;28;01mfinally\u001b[39;00m:\n\u001b[0;32m     69\u001b[0m   \u001b[38;5;28;01mdel\u001b[39;00m filtered_tb\n",
      "File \u001b[1;32mC:\\Users\\ACERNI~1\\AppData\\Local\\Temp\\__autograph_generated_filew4xpgncz.py:15\u001b[0m, in \u001b[0;36mouter_factory.<locals>.inner_factory.<locals>.tf__train_function\u001b[1;34m(iterator)\u001b[0m\n\u001b[0;32m     13\u001b[0m \u001b[38;5;28;01mtry\u001b[39;00m:\n\u001b[0;32m     14\u001b[0m     do_return \u001b[38;5;241m=\u001b[39m \u001b[38;5;28;01mTrue\u001b[39;00m\n\u001b[1;32m---> 15\u001b[0m     retval_ \u001b[38;5;241m=\u001b[39m ag__\u001b[38;5;241m.\u001b[39mconverted_call(ag__\u001b[38;5;241m.\u001b[39mld(step_function), (ag__\u001b[38;5;241m.\u001b[39mld(\u001b[38;5;28mself\u001b[39m), ag__\u001b[38;5;241m.\u001b[39mld(iterator)), \u001b[38;5;28;01mNone\u001b[39;00m, fscope)\n\u001b[0;32m     16\u001b[0m \u001b[38;5;28;01mexcept\u001b[39;00m:\n\u001b[0;32m     17\u001b[0m     do_return \u001b[38;5;241m=\u001b[39m \u001b[38;5;28;01mFalse\u001b[39;00m\n",
      "\u001b[1;31mValueError\u001b[0m: in user code:\n\n    File \"C:\\Users\\ACER NITRO\\AppData\\Local\\Programs\\Python\\Python310\\lib\\site-packages\\keras\\engine\\training.py\", line 1051, in train_function  *\n        return step_function(self, iterator)\n    File \"C:\\Users\\ACER NITRO\\AppData\\Local\\Programs\\Python\\Python310\\lib\\site-packages\\keras\\engine\\training.py\", line 1040, in step_function  **\n        outputs = model.distribute_strategy.run(run_step, args=(data,))\n    File \"C:\\Users\\ACER NITRO\\AppData\\Local\\Programs\\Python\\Python310\\lib\\site-packages\\keras\\engine\\training.py\", line 1030, in run_step  **\n        outputs = model.train_step(data)\n    File \"C:\\Users\\ACER NITRO\\AppData\\Local\\Programs\\Python\\Python310\\lib\\site-packages\\keras\\engine\\training.py\", line 889, in train_step\n        y_pred = self(x, training=True)\n    File \"C:\\Users\\ACER NITRO\\AppData\\Local\\Programs\\Python\\Python310\\lib\\site-packages\\keras\\utils\\traceback_utils.py\", line 67, in error_handler\n        raise e.with_traceback(filtered_tb) from None\n    File \"C:\\Users\\ACER NITRO\\AppData\\Local\\Programs\\Python\\Python310\\lib\\site-packages\\keras\\engine\\input_spec.py\", line 228, in assert_input_compatibility\n        raise ValueError(f'Input {input_index} of layer \"{layer_name}\" '\n\n    ValueError: Exception encountered when calling layer \"sequential\" (type Sequential).\n    \n    Input 0 of layer \"dense\" is incompatible with the layer: expected min_ndim=2, found ndim=1. Full shape received: (None,)\n    \n    Call arguments received by layer \"sequential\" (type Sequential):\n      • inputs=tf.Tensor(shape=(None,), dtype=float32)\n      • training=True\n      • mask=None\n"
     ]
    }
   ],
   "source": [
    "#train model\n",
    "\n",
    "model.fit(x, y)"
   ]
  },
  {
   "cell_type": "code",
   "execution_count": 30,
   "id": "5dc9b774",
   "metadata": {},
   "outputs": [
    {
     "name": "stdout",
     "output_type": "stream",
     "text": [
      "[<tf.Variable 'dense/kernel:0' shape=(240, 100) dtype=float32, numpy=\n",
      "array([[-3.59095871e-01, -5.04190266e-01, -3.33273381e-01, ...,\n",
      "        -8.56756791e-02, -6.29145056e-02, -1.56066096e+00],\n",
      "       [-8.87623429e-03, -8.27037171e-02, -3.59901786e-03, ...,\n",
      "        -1.44966155e-01, -5.45813842e-03, -6.87815249e-02],\n",
      "       [ 6.90472782e-01,  1.56950280e-01,  7.04578310e-02, ...,\n",
      "        -6.09553695e-01, -2.20457345e-01,  1.66425204e+00],\n",
      "       ...,\n",
      "       [ 6.16863482e-02,  8.48809958e-01, -1.60779715e-01, ...,\n",
      "        -7.22338259e-02, -2.52959013e-01,  4.53562468e-01],\n",
      "       [ 5.03592908e-01, -1.99974142e-02, -1.60123408e-01, ...,\n",
      "        -1.39410466e-01,  6.52781188e-01, -1.09621674e-01],\n",
      "       [-1.37390755e-03,  4.26008217e-02, -3.25800657e-01, ...,\n",
      "        -2.26313472e-01, -2.98417598e-01, -1.04854247e-02]], dtype=float32)>, <tf.Variable 'dense/bias:0' shape=(100,) dtype=float32, numpy=\n",
      "array([-0.45942086, -1.4299103 , -2.0540485 , -0.4095179 ,  0.29823062,\n",
      "       -0.79707485, -2.6958516 , -1.4543846 , -1.0478046 , -1.0614816 ,\n",
      "       -2.6917994 , -1.3455439 , -1.5258836 , -2.722137  , -0.49310777,\n",
      "       -2.2190876 , -0.95200956, -0.35649532,  1.1916344 , -2.409396  ,\n",
      "        1.3658924 , -1.0256487 , -1.2788516 , -3.015625  , -1.2416636 ,\n",
      "       -0.9002241 , -2.1343079 , -1.1008666 , -2.5360167 , -2.570943  ,\n",
      "       -0.73592156, -0.9299669 ,  0.4917196 , -0.9800102 , -0.3889832 ,\n",
      "       -1.9419197 , -0.31038588, -0.71346736, -0.48347542, -1.6373149 ,\n",
      "       -0.68285125, -0.4246477 , -1.653937  , -0.33569813,  0.06849155,\n",
      "       -0.3079525 , -1.2086827 ,  0.9429718 ,  0.58103055, -1.1825069 ,\n",
      "       -1.2487969 , -1.3315283 , -1.5291251 , -0.23418406,  0.44012424,\n",
      "       -1.4883459 ,  0.29470685, -0.34292325, -0.77598023, -0.90523934,\n",
      "       -0.9753773 ,  0.5359676 , -2.7538998 , -0.09072233, -0.07685856,\n",
      "       -1.393821  , -2.03627   , -1.43014   , -3.0800304 , -2.8272629 ,\n",
      "        1.2900176 , -3.676094  ,  0.32845634, -1.488761  , -0.97766787,\n",
      "       -3.9161992 ,  0.64553857, -3.303734  , -0.11739378, -0.7032276 ,\n",
      "       -3.7734425 , -1.7201308 , -0.7192653 , -0.40251428, -1.5764523 ,\n",
      "        0.05386813, -2.423969  , -0.96465725,  0.28677982, -1.2867323 ,\n",
      "       -0.08960658, -0.7941585 , -3.3767092 , -1.9336221 , -1.6779134 ,\n",
      "       -1.5327529 , -1.4854268 , -0.69511145, -1.2609341 , -2.7414854 ],\n",
      "      dtype=float32)>, <tf.Variable 'dense_1/kernel:0' shape=(100, 35) dtype=float32, numpy=\n",
      "array([[ 4.6305028e-01, -3.1315640e-02, -1.0747951e+00, ...,\n",
      "        -1.4186218e-01, -1.1419659e+00, -4.2075105e-02],\n",
      "       [-5.7862276e-01, -6.9358595e-02,  4.3678817e-01, ...,\n",
      "        -2.8689539e+00, -1.1829751e+00,  4.2293989e-03],\n",
      "       [ 3.5621253e-01,  1.3171246e+00,  1.1872180e+00, ...,\n",
      "         3.4092337e-02,  1.4933167e-01, -6.1875537e-02],\n",
      "       ...,\n",
      "       [-9.8972261e-01, -2.0602305e-01,  2.3444955e-01, ...,\n",
      "        -2.2902649e-02, -2.9119388e-03, -4.7334053e-02],\n",
      "       [-1.4038035e+00,  3.6791201e+00, -5.5077332e-01, ...,\n",
      "         2.8370735e-01,  2.8653499e-01,  4.6498048e-01],\n",
      "       [-8.4971941e-01,  1.6913017e+00,  9.7772223e-01, ...,\n",
      "         8.3807474e-01,  6.8521023e-01, -1.8400973e+00]], dtype=float32)>, <tf.Variable 'dense_1/bias:0' shape=(35,) dtype=float32, numpy=\n",
      "array([-1.4299501 , -2.113101  , -4.1370564 , -4.1937327 , -1.677382  ,\n",
      "       -2.251018  , -1.5631957 , -1.9413816 , -0.54836947, -0.8334528 ,\n",
      "       -1.1653057 , -0.37405068, -1.5120616 , -1.5821372 , -2.4388418 ,\n",
      "       -0.46591392, -0.16928992, -0.5411568 , -3.1308813 , -0.33182427,\n",
      "       -0.22588217, -2.2408607 , -2.5936286 , -0.9484416 , -1.5226666 ,\n",
      "       -0.12033471, -1.0967048 , -1.323347  , -2.9420505 , -1.1843531 ,\n",
      "       -0.611575  , -0.1113159 , -1.0286523 , -1.0428588 , -0.42093733],\n",
      "      dtype=float32)>, <tf.Variable 'dense_2/kernel:0' shape=(35, 75) dtype=float32, numpy=\n",
      "array([[ -7.7613063 ,  -0.15666535,  -0.19066681, ...,  -0.42857602,\n",
      "         -4.553853  , -23.399778  ],\n",
      "       [-46.724094  , -26.781193  , -26.122362  , ..., -29.152172  ,\n",
      "        -33.194798  , -15.148997  ],\n",
      "       [ -0.19001284, -11.495468  ,  -4.9995103 , ...,  -9.160798  ,\n",
      "        -25.493322  ,  -0.5710957 ],\n",
      "       ...,\n",
      "       [ -0.22820812, -39.222073  , -37.4608    , ..., -38.948578  ,\n",
      "        -37.904053  , -15.062352  ],\n",
      "       [-21.369314  , -54.38995   , -44.87365   , ..., -28.209663  ,\n",
      "        -52.54084   ,  -9.983122  ],\n",
      "       [-36.54899   , -44.14634   , -43.015816  , ..., -43.821377  ,\n",
      "         -3.5512793 ,  -0.2756092 ]], dtype=float32)>, <tf.Variable 'dense_2/bias:0' shape=(75,) dtype=float32, numpy=\n",
      "array([ -3.743489  ,  -3.8486733 ,  -2.0264785 ,  -0.94130206,\n",
      "        -3.3267705 ,  -1.0903821 ,  -0.66077834,  -2.839932  ,\n",
      "        -3.411397  ,  -0.9232274 ,  -7.0501924 ,  -4.332623  ,\n",
      "       -14.378433  ,  -0.1061889 ,  -0.7990002 ,  -1.591295  ,\n",
      "        -6.088933  ,  -0.5246214 ,  -7.345049  ,  -1.0345778 ,\n",
      "        -5.3241496 ,  -3.2142184 ,  -9.185904  ,  -9.240648  ,\n",
      "        -3.6407084 ,  -4.7959194 ,  -1.4686246 ,  -2.8358793 ,\n",
      "        -2.6290112 ,  -7.223913  ,  -2.2186785 ,  -3.7692962 ,\n",
      "        -1.5598892 ,  -6.5472646 ,  -2.1132672 ,  -1.9897695 ,\n",
      "        -1.3036964 ,  -5.3649464 ,  -3.5579908 ,  -0.8292942 ,\n",
      "        -0.4487534 ,  -4.176066  ,  -0.5556408 , -12.778021  ,\n",
      "        -1.5972183 ,  -1.3958008 ,  -2.5129142 ,  -4.7599926 ,\n",
      "        -7.291253  ,  -6.698932  ,  -4.0047345 ,  -5.689725  ,\n",
      "        -8.367181  ,  -1.9438084 ,  -5.0581737 ,  -1.8495367 ,\n",
      "        -3.5085227 ,  -4.3738213 , -17.633556  ,  -2.091898  ,\n",
      "        -4.804637  ,  -1.9211032 ,  -2.8536344 , -19.294708  ,\n",
      "        -1.7133898 ,  -3.4268444 ,  -3.690252  ,  -6.4519663 ,\n",
      "        -1.1280853 ,  -0.9397407 ,  -3.7965646 ,  -1.7435964 ,\n",
      "        -3.1735775 ,  -1.9116164 ,  -4.767676  ], dtype=float32)>]\n"
     ]
    }
   ],
   "source": [
    "#checking weights\n",
    "\n",
    "weight=model.weights\n",
    "print(weight)"
   ]
  },
  {
   "cell_type": "code",
   "execution_count": 32,
   "id": "fb8b1818",
   "metadata": {},
   "outputs": [
    {
     "data": {
      "text/plain": [
       "[<tf.Variable 'dense/kernel:0' shape=(240, 100) dtype=float32, numpy=\n",
       " array([[-3.59095871e-01, -5.04190266e-01, -3.33273381e-01, ...,\n",
       "         -8.56756791e-02, -6.29145056e-02, -1.56066096e+00],\n",
       "        [-8.87623429e-03, -8.27037171e-02, -3.59901786e-03, ...,\n",
       "         -1.44966155e-01, -5.45813842e-03, -6.87815249e-02],\n",
       "        [ 6.90472782e-01,  1.56950280e-01,  7.04578310e-02, ...,\n",
       "         -6.09553695e-01, -2.20457345e-01,  1.66425204e+00],\n",
       "        ...,\n",
       "        [ 6.16863482e-02,  8.48809958e-01, -1.60779715e-01, ...,\n",
       "         -7.22338259e-02, -2.52959013e-01,  4.53562468e-01],\n",
       "        [ 5.03592908e-01, -1.99974142e-02, -1.60123408e-01, ...,\n",
       "         -1.39410466e-01,  6.52781188e-01, -1.09621674e-01],\n",
       "        [-1.37390755e-03,  4.26008217e-02, -3.25800657e-01, ...,\n",
       "         -2.26313472e-01, -2.98417598e-01, -1.04854247e-02]], dtype=float32)>,\n",
       " <tf.Variable 'dense/bias:0' shape=(100,) dtype=float32, numpy=\n",
       " array([-0.45942086, -1.4299103 , -2.0540485 , -0.4095179 ,  0.29823062,\n",
       "        -0.79707485, -2.6958516 , -1.4543846 , -1.0478046 , -1.0614816 ,\n",
       "        -2.6917994 , -1.3455439 , -1.5258836 , -2.722137  , -0.49310777,\n",
       "        -2.2190876 , -0.95200956, -0.35649532,  1.1916344 , -2.409396  ,\n",
       "         1.3658924 , -1.0256487 , -1.2788516 , -3.015625  , -1.2416636 ,\n",
       "        -0.9002241 , -2.1343079 , -1.1008666 , -2.5360167 , -2.570943  ,\n",
       "        -0.73592156, -0.9299669 ,  0.4917196 , -0.9800102 , -0.3889832 ,\n",
       "        -1.9419197 , -0.31038588, -0.71346736, -0.48347542, -1.6373149 ,\n",
       "        -0.68285125, -0.4246477 , -1.653937  , -0.33569813,  0.06849155,\n",
       "        -0.3079525 , -1.2086827 ,  0.9429718 ,  0.58103055, -1.1825069 ,\n",
       "        -1.2487969 , -1.3315283 , -1.5291251 , -0.23418406,  0.44012424,\n",
       "        -1.4883459 ,  0.29470685, -0.34292325, -0.77598023, -0.90523934,\n",
       "        -0.9753773 ,  0.5359676 , -2.7538998 , -0.09072233, -0.07685856,\n",
       "        -1.393821  , -2.03627   , -1.43014   , -3.0800304 , -2.8272629 ,\n",
       "         1.2900176 , -3.676094  ,  0.32845634, -1.488761  , -0.97766787,\n",
       "        -3.9161992 ,  0.64553857, -3.303734  , -0.11739378, -0.7032276 ,\n",
       "        -3.7734425 , -1.7201308 , -0.7192653 , -0.40251428, -1.5764523 ,\n",
       "         0.05386813, -2.423969  , -0.96465725,  0.28677982, -1.2867323 ,\n",
       "        -0.08960658, -0.7941585 , -3.3767092 , -1.9336221 , -1.6779134 ,\n",
       "        -1.5327529 , -1.4854268 , -0.69511145, -1.2609341 , -2.7414854 ],\n",
       "       dtype=float32)>]"
      ]
     },
     "execution_count": 32,
     "metadata": {},
     "output_type": "execute_result"
    }
   ],
   "source": [
    "#getting the weight with the hidden_layer name\n",
    "model.get_layer('dense').weights"
   ]
  },
  {
   "cell_type": "code",
   "execution_count": 34,
   "id": "07d57d0e",
   "metadata": {},
   "outputs": [
    {
     "data": {
      "text/plain": [
       "[array([[-3.59095871e-01, -5.04190266e-01, -3.33273381e-01, ...,\n",
       "         -8.56756791e-02, -6.29145056e-02, -1.56066096e+00],\n",
       "        [-8.87623429e-03, -8.27037171e-02, -3.59901786e-03, ...,\n",
       "         -1.44966155e-01, -5.45813842e-03, -6.87815249e-02],\n",
       "        [ 6.90472782e-01,  1.56950280e-01,  7.04578310e-02, ...,\n",
       "         -6.09553695e-01, -2.20457345e-01,  1.66425204e+00],\n",
       "        ...,\n",
       "        [ 6.16863482e-02,  8.48809958e-01, -1.60779715e-01, ...,\n",
       "         -7.22338259e-02, -2.52959013e-01,  4.53562468e-01],\n",
       "        [ 5.03592908e-01, -1.99974142e-02, -1.60123408e-01, ...,\n",
       "         -1.39410466e-01,  6.52781188e-01, -1.09621674e-01],\n",
       "        [-1.37390755e-03,  4.26008217e-02, -3.25800657e-01, ...,\n",
       "         -2.26313472e-01, -2.98417598e-01, -1.04854247e-02]], dtype=float32),\n",
       " array([-0.45942086, -1.4299103 , -2.0540485 , -0.4095179 ,  0.29823062,\n",
       "        -0.79707485, -2.6958516 , -1.4543846 , -1.0478046 , -1.0614816 ,\n",
       "        -2.6917994 , -1.3455439 , -1.5258836 , -2.722137  , -0.49310777,\n",
       "        -2.2190876 , -0.95200956, -0.35649532,  1.1916344 , -2.409396  ,\n",
       "         1.3658924 , -1.0256487 , -1.2788516 , -3.015625  , -1.2416636 ,\n",
       "        -0.9002241 , -2.1343079 , -1.1008666 , -2.5360167 , -2.570943  ,\n",
       "        -0.73592156, -0.9299669 ,  0.4917196 , -0.9800102 , -0.3889832 ,\n",
       "        -1.9419197 , -0.31038588, -0.71346736, -0.48347542, -1.6373149 ,\n",
       "        -0.68285125, -0.4246477 , -1.653937  , -0.33569813,  0.06849155,\n",
       "        -0.3079525 , -1.2086827 ,  0.9429718 ,  0.58103055, -1.1825069 ,\n",
       "        -1.2487969 , -1.3315283 , -1.5291251 , -0.23418406,  0.44012424,\n",
       "        -1.4883459 ,  0.29470685, -0.34292325, -0.77598023, -0.90523934,\n",
       "        -0.9753773 ,  0.5359676 , -2.7538998 , -0.09072233, -0.07685856,\n",
       "        -1.393821  , -2.03627   , -1.43014   , -3.0800304 , -2.8272629 ,\n",
       "         1.2900176 , -3.676094  ,  0.32845634, -1.488761  , -0.97766787,\n",
       "        -3.9161992 ,  0.64553857, -3.303734  , -0.11739378, -0.7032276 ,\n",
       "        -3.7734425 , -1.7201308 , -0.7192653 , -0.40251428, -1.5764523 ,\n",
       "         0.05386813, -2.423969  , -0.96465725,  0.28677982, -1.2867323 ,\n",
       "        -0.08960658, -0.7941585 , -3.3767092 , -1.9336221 , -1.6779134 ,\n",
       "        -1.5327529 , -1.4854268 , -0.69511145, -1.2609341 , -2.7414854 ],\n",
       "       dtype=float32)]"
      ]
     },
     "execution_count": 34,
     "metadata": {},
     "output_type": "execute_result"
    }
   ],
   "source": [
    "#getting weight of hidden_layer in number probably in an array not tf\n",
    "\n",
    "model.get_layer('dense').get_weights()\n",
    "\n",
    "#getting bias model.layers[0].bias\n",
    "#getting input and output model.layers[0].input same for output"
   ]
  },
  {
   "cell_type": "code",
   "execution_count": 35,
   "id": "1bb23d33",
   "metadata": {},
   "outputs": [
    {
     "ename": "SyntaxError",
     "evalue": "invalid syntax (2830201818.py, line 1)",
     "output_type": "error",
     "traceback": [
      "\u001b[1;36m  Input \u001b[1;32mIn [35]\u001b[1;36m\u001b[0m\n\u001b[1;33m    git init\u001b[0m\n\u001b[1;37m        ^\u001b[0m\n\u001b[1;31mSyntaxError\u001b[0m\u001b[1;31m:\u001b[0m invalid syntax\n"
     ]
    }
   ],
   "source": []
  },
  {
   "cell_type": "code",
   "execution_count": null,
   "id": "3bd8bfc0",
   "metadata": {},
   "outputs": [],
   "source": []
  }
 ],
 "metadata": {
  "kernelspec": {
   "display_name": "Python 3 (ipykernel)",
   "language": "python",
   "name": "python3"
  },
  "language_info": {
   "codemirror_mode": {
    "name": "ipython",
    "version": 3
   },
   "file_extension": ".py",
   "mimetype": "text/x-python",
   "name": "python",
   "nbconvert_exporter": "python",
   "pygments_lexer": "ipython3",
   "version": "3.10.6"
  },
  "vscode": {
   "interpreter": {
    "hash": "3dcdc92c67f25e1a50f94c7f4b6d1d13d29cd263fa2e79078ef2d4cb7d9fa7f9"
   }
  }
 },
 "nbformat": 4,
 "nbformat_minor": 5
}
